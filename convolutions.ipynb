{
  "nbformat": 4,
  "nbformat_minor": 0,
  "metadata": {
    "accelerator": "GPU",
    "colab": {
      "name": "convolutions.ipynb",
      "provenance": [],
      "collapsed_sections": [],
      "include_colab_link": true
    },
    "kernelspec": {
      "display_name": "Python 3",
      "language": "python",
      "name": "python3"
    },
    "language_info": {
      "codemirror_mode": {
        "name": "ipython",
        "version": 3
      },
      "file_extension": ".py",
      "mimetype": "text/x-python",
      "name": "python",
      "nbconvert_exporter": "python",
      "pygments_lexer": "ipython3",
      "version": "3.6.5"
    }
  },
  "cells": [
    {
      "cell_type": "markdown",
      "metadata": {
        "id": "view-in-github",
        "colab_type": "text"
      },
      "source": [
        "<a href=\"https://colab.research.google.com/github/DeltaINKDesign/Keras/blob/master/convolutions.ipynb\" target=\"_parent\"><img src=\"https://colab.research.google.com/assets/colab-badge.svg\" alt=\"Open In Colab\"/></a>"
      ]
    },
    {
      "cell_type": "code",
      "metadata": {
        "colab_type": "code",
        "id": "_TLKdxv4fwDx",
        "outputId": "4eab6a9b-1e6a-4428-b0d4-72de4a0d6635",
        "colab": {
          "base_uri": "https://localhost:8080/",
          "height": 34
        }
      },
      "source": [
        "#%tensorflow_version 1.x\n",
        "import keras\n",
        "import os\n",
        "from keras import backend as K\n",
        "from keras.datasets import cifar10\n",
        "import matplotlib.pyplot as plt\n",
        "import numpy as np\n",
        "from copy import deepcopy\n",
        "import tensorflow as tf\n",
        "from keras.utils import to_categorical\n",
        "\n",
        "#tf.compat.v1.logging.set_verbosity(tf.compat.v1.logging.ERROR)"
      ],
      "execution_count": 2,
      "outputs": [
        {
          "output_type": "stream",
          "text": [
            "Using TensorFlow backend.\n"
          ],
          "name": "stderr"
        }
      ]
    },
    {
      "cell_type": "markdown",
      "metadata": {
        "colab_type": "text",
        "id": "zNQZtbspNrMF"
      },
      "source": [
        "# Gather the data"
      ]
    },
    {
      "cell_type": "code",
      "metadata": {
        "colab_type": "code",
        "id": "lhG7_A0PglI4",
        "outputId": "e8a10949-be65-4f88-e028-5eee9831d283",
        "colab": {
          "base_uri": "https://localhost:8080/",
          "height": 51
        }
      },
      "source": [
        "# load CIFAR 10 images\n",
        "# description of this dataset can be seen here:\n",
        "# https://www.cs.toronto.edu/~kriz/cifar.html\n",
        "\n",
        "(X_train, y_train), (X_test, y_test) = cifar10.load_data()"
      ],
      "execution_count": 3,
      "outputs": [
        {
          "output_type": "stream",
          "text": [
            "Downloading data from https://www.cs.toronto.edu/~kriz/cifar-10-python.tar.gz\n",
            "170500096/170498071 [==============================] - 6s 0us/step\n"
          ],
          "name": "stdout"
        }
      ]
    },
    {
      "cell_type": "code",
      "metadata": {
        "colab_type": "code",
        "id": "FoQlVlpbhfVm",
        "outputId": "f9d99f3a-43fb-4862-a3ee-e829a0786ba4",
        "colab": {
          "base_uri": "https://localhost:8080/",
          "height": 34
        }
      },
      "source": [
        "# both X and y are numpy arrays\n",
        "# the most essential infomation about numpy arrays is in their shape\n",
        "X_train.shape"
      ],
      "execution_count": 9,
      "outputs": [
        {
          "output_type": "execute_result",
          "data": {
            "text/plain": [
              "(50000, 32, 32, 3)"
            ]
          },
          "metadata": {
            "tags": []
          },
          "execution_count": 9
        }
      ]
    },
    {
      "cell_type": "code",
      "metadata": {
        "colab_type": "code",
        "id": "IkWgb31vihuj",
        "outputId": "7d4f7221-fe9e-47ca-ef8c-59796ee5c8a2",
        "colab": {
          "base_uri": "https://localhost:8080/",
          "height": 300
        }
      },
      "source": [
        "# assign seventh example from training batch to variable called \"example_img\"\n",
        "example_img = deepcopy(X_train[7])\n",
        "print('Label number for that class:', y_train[7])\n",
        "# display img\n",
        "plt.imshow(example_img)"
      ],
      "execution_count": 10,
      "outputs": [
        {
          "output_type": "stream",
          "text": [
            "Label number for that class: [7]\n"
          ],
          "name": "stdout"
        },
        {
          "output_type": "execute_result",
          "data": {
            "text/plain": [
              "<matplotlib.image.AxesImage at 0x7efbab95d940>"
            ]
          },
          "metadata": {
            "tags": []
          },
          "execution_count": 10
        },
        {
          "output_type": "display_data",
          "data": {
            "image/png": "[encoded data removed]",
            "text/plain": [
              "<Figure size 432x288 with 1 Axes>"
            ]
          },
          "metadata": {
            "tags": [],
            "needs_background": "light"
          }
        }
      ]
    },
    {
      "cell_type": "code",
      "metadata": {
        "colab_type": "code",
        "id": "dLiuG7VILVgL",
        "outputId": "05d4d322-e257-43bb-8dcf-d2164f6d5063",
        "colab": {
          "base_uri": "https://localhost:8080/",
          "height": 34
        }
      },
      "source": [
        "# print the shape of example_img\n",
        "example_img.shape"
      ],
      "execution_count": 11,
      "outputs": [
        {
          "output_type": "execute_result",
          "data": {
            "text/plain": [
              "(32, 32, 3)"
            ]
          },
          "metadata": {
            "tags": []
          },
          "execution_count": 11
        }
      ]
    },
    {
      "cell_type": "code",
      "metadata": {
        "colab_type": "code",
        "id": "v_WlqpncejXV",
        "outputId": "b2625b08-2c1e-4de9-a1f6-8add1e623b63",
        "colab": {
          "base_uri": "https://localhost:8080/",
          "height": 283
        }
      },
      "source": [
        "# extract first channel from example_img and assign it to 'red_channel' variable\n",
        "# red_channel var shape should be (32, 32)\n",
        "red_channel = example_img[:, :, 0]\n",
        "assert red_channel.shape == (32, 32)\n",
        "plt.imshow(np.concatenate([red_channel[..., None], \n",
        "                           np.zeros(shape=(32, 32, 2), dtype='int')], axis=-1))"
      ],
      "execution_count": 27,
      "outputs": [
        {
          "output_type": "execute_result",
          "data": {
            "text/plain": [
              "<matplotlib.image.AxesImage at 0x7efba0128080>"
            ]
          },
          "metadata": {
            "tags": []
          },
          "execution_count": 27
        },
        {
          "output_type": "display_data",
          "data": {
            "image/png": "[encoded data removed]",
            "text/plain": [
              "<Figure size 432x288 with 1 Axes>"
            ]
          },
          "metadata": {
            "tags": [],
            "needs_background": "light"
          }
        }
      ]
    },
    {
      "cell_type": "code",
      "metadata": {
        "colab_type": "code",
        "id": "Cb7iiZW7sHPv",
        "colab": {}
      },
      "source": [
        "##TODO\n",
        "# flatten the X_train examples ((50000, 32, 32, 3) -> (50000, 3072))\n",
        "# hint: you can use numpy reshape function\n",
        "X_train_flat = X_train.reshape(50000, 3072)\n",
        "assert X_train_flat.shape == (50000, 3072)\n",
        "\n",
        "##TODO\n",
        "# convert the X_train_flat array value range from (0; 255) to (0; 1)\n",
        "X_train_flat = X_train_flat / 255.\n",
        "assert np.max(X_train_flat) <= 1.\n",
        "\n",
        "##TODO\n",
        "# convert y_train to one hot encoding\n",
        "# hint: you can use keras.utils.to_categorical function\n",
        "y = keras.utils.to_categorical(y_train)\n",
        "assert y.shape == (50000, 10)"
      ],
      "execution_count": 0,
      "outputs": []
    },
    {
      "cell_type": "markdown",
      "metadata": {
        "colab_type": "text",
        "id": "P45daHD9swLt"
      },
      "source": [
        "# Image classifier (dense neural network)"
      ]
    },
    {
      "cell_type": "code",
      "metadata": {
        "colab_type": "code",
        "id": "XlqSst6Kpqa1",
        "colab": {
          "base_uri": "https://localhost:8080/",
          "height": 34
        },
        "outputId": "1b71c537-b273-4b4c-fae3-d9ec4bf1170e"
      },
      "source": [
        "from keras.models import Sequential\n",
        "from keras.layers import Dense\n",
        "from keras.optimizers import Adam"
      ],
      "execution_count": 1,
      "outputs": [
        {
          "output_type": "stream",
          "text": [
            "Using TensorFlow backend.\n"
          ],
          "name": "stderr"
        }
      ]
    },
    {
      "cell_type": "code",
      "metadata": {
        "colab_type": "code",
        "id": "7IH8AleDqLQA",
        "colab": {}
      },
      "source": [
        "# build a dense neural architecture that receives input vector of length 3072\n",
        "# and outputs prediction for 10 classes (softmax activation)\n",
        "# use Adam optimizer, categorical_crossentropy loss\n",
        "# our metrics will be accuracy\n",
        "\n",
        "dense_network = Sequential()\n",
        "dense_network.add(Dense(256, input_shape=(3072,), activation='relu'))\n",
        "dense_network.add(Dense(10, activation='softmax'))\n",
        "##TODO build your dense network !\n",
        "\n",
        "dense_network.compile(optimizer=Adam(), loss='categorical_crossentropy', metrics=['accuracy'])"
      ],
      "execution_count": 0,
      "outputs": []
    },
    {
      "cell_type": "code",
      "metadata": {
        "colab_type": "code",
        "id": "79oSBedNORWg",
        "outputId": "85a91573-dbc5-4c95-c109-20608a2a575a",
        "colab": {
          "base_uri": "https://localhost:8080/",
          "height": 187
        }
      },
      "source": [
        "dense_network.summary()"
      ],
      "execution_count": 0,
      "outputs": [
        {
          "output_type": "stream",
          "text": [
            "Model: \"sequential_1\"\n",
            "_________________________________________________________________\n",
            "Layer (type)                 Output Shape              Param #   \n",
            "=================================================================\n",
            "dense_1 (Dense)              (None, 10)                30730     \n",
            "=================================================================\n",
            "Total params: 30,730\n",
            "Trainable params: 30,730\n",
            "Non-trainable params: 0\n",
            "_________________________________________________________________\n"
          ],
          "name": "stdout"
        }
      ]
    },
    {
      "cell_type": "code",
      "metadata": {
        "colab_type": "code",
        "id": "JZwwHU31thoP",
        "outputId": "cd1c1b03-b95b-4965-dc7a-68654f4853e1",
        "colab": {
          "base_uri": "https://localhost:8080/",
          "height": 1000
        }
      },
      "source": [
        "##TODO\n",
        "# train your network\n",
        "# use batch size 32, split the dataset into train/validation (0.7/0.3)\n",
        "# keep training for 10 epochs\n",
        "dense_network.fit(epochs=50, \n",
        "                  x=X_train_flat, \n",
        "                  y=y, \n",
        "                  batch_size=32, \n",
        "                  validation_split=0.2)"
      ],
      "execution_count": 0,
      "outputs": [
        {
          "output_type": "stream",
          "text": [
            "Train on 40000 samples, validate on 10000 samples\n",
            "Epoch 1/50\n",
            "40000/40000 [==============================] - 1s 20us/step - loss: 1.6812 - accuracy: 0.3870 - val_loss: 1.7507 - val_accuracy: 0.3633\n",
            "Epoch 2/50\n",
            "40000/40000 [==============================] - 1s 17us/step - loss: 1.6835 - accuracy: 0.3859 - val_loss: 1.7530 - val_accuracy: 0.3633\n",
            "Epoch 3/50\n",
            "40000/40000 [==============================] - 1s 15us/step - loss: 1.6857 - accuracy: 0.3845 - val_loss: 1.7550 - val_accuracy: 0.3616\n",
            "Epoch 4/50\n",
            "40000/40000 [==============================] - 1s 15us/step - loss: 1.6875 - accuracy: 0.3844 - val_loss: 1.7568 - val_accuracy: 0.3612\n",
            "Epoch 5/50\n",
            "40000/40000 [==============================] - 1s 15us/step - loss: 1.6891 - accuracy: 0.3832 - val_loss: 1.7582 - val_accuracy: 0.3607\n",
            "Epoch 6/50\n",
            "40000/40000 [==============================] - 1s 15us/step - loss: 1.6904 - accuracy: 0.3825 - val_loss: 1.7594 - val_accuracy: 0.3609\n",
            "Epoch 7/50\n",
            "40000/40000 [==============================] - 1s 15us/step - loss: 1.6914 - accuracy: 0.3821 - val_loss: 1.7602 - val_accuracy: 0.3608\n",
            "Epoch 8/50\n",
            "40000/40000 [==============================] - 1s 15us/step - loss: 1.6920 - accuracy: 0.3818 - val_loss: 1.7608 - val_accuracy: 0.3604\n",
            "Epoch 9/50\n",
            "40000/40000 [==============================] - 1s 15us/step - loss: 1.6922 - accuracy: 0.3816 - val_loss: 1.7610 - val_accuracy: 0.3599\n",
            "Epoch 10/50\n",
            "40000/40000 [==============================] - 1s 15us/step - loss: 1.6921 - accuracy: 0.3817 - val_loss: 1.7609 - val_accuracy: 0.3603\n",
            "Epoch 11/50\n",
            "40000/40000 [==============================] - 1s 15us/step - loss: 1.6914 - accuracy: 0.3820 - val_loss: 1.7606 - val_accuracy: 0.3609\n",
            "Epoch 12/50\n",
            "40000/40000 [==============================] - 1s 15us/step - loss: 1.6904 - accuracy: 0.3817 - val_loss: 1.7601 - val_accuracy: 0.3614\n",
            "Epoch 13/50\n",
            "40000/40000 [==============================] - 1s 15us/step - loss: 1.6894 - accuracy: 0.3820 - val_loss: 1.7606 - val_accuracy: 0.3617\n",
            "Epoch 14/50\n",
            "40000/40000 [==============================] - 1s 15us/step - loss: 1.6883 - accuracy: 0.3823 - val_loss: 1.7612 - val_accuracy: 0.3626\n",
            "Epoch 15/50\n",
            "40000/40000 [==============================] - 1s 15us/step - loss: 1.6873 - accuracy: 0.3830 - val_loss: 1.7607 - val_accuracy: 0.3634\n",
            "Epoch 16/50\n",
            "40000/40000 [==============================] - 1s 15us/step - loss: 1.6858 - accuracy: 0.3835 - val_loss: 1.7591 - val_accuracy: 0.3639\n",
            "Epoch 17/50\n",
            "40000/40000 [==============================] - 1s 15us/step - loss: 1.6839 - accuracy: 0.3840 - val_loss: 1.7570 - val_accuracy: 0.3640\n",
            "Epoch 18/50\n",
            "40000/40000 [==============================] - 1s 15us/step - loss: 1.6817 - accuracy: 0.3848 - val_loss: 1.7549 - val_accuracy: 0.3641\n",
            "Epoch 19/50\n",
            "40000/40000 [==============================] - 1s 15us/step - loss: 1.6796 - accuracy: 0.3857 - val_loss: 1.7530 - val_accuracy: 0.3646\n",
            "Epoch 20/50\n",
            "40000/40000 [==============================] - 1s 15us/step - loss: 1.6773 - accuracy: 0.3860 - val_loss: 1.7511 - val_accuracy: 0.3655\n",
            "Epoch 21/50\n",
            "40000/40000 [==============================] - 1s 15us/step - loss: 1.6748 - accuracy: 0.3870 - val_loss: 1.7497 - val_accuracy: 0.3664\n",
            "Epoch 22/50\n",
            "40000/40000 [==============================] - 1s 15us/step - loss: 1.6719 - accuracy: 0.3880 - val_loss: 1.7496 - val_accuracy: 0.3675\n",
            "Epoch 23/50\n",
            "40000/40000 [==============================] - 1s 15us/step - loss: 1.6694 - accuracy: 0.3899 - val_loss: 1.7484 - val_accuracy: 0.3694\n",
            "Epoch 24/50\n",
            "40000/40000 [==============================] - 1s 15us/step - loss: 1.6672 - accuracy: 0.3907 - val_loss: 1.7453 - val_accuracy: 0.3711\n",
            "Epoch 25/50\n",
            "40000/40000 [==============================] - 1s 15us/step - loss: 1.6646 - accuracy: 0.3919 - val_loss: 1.7419 - val_accuracy: 0.3714\n",
            "Epoch 26/50\n",
            "40000/40000 [==============================] - 1s 15us/step - loss: 1.6623 - accuracy: 0.3932 - val_loss: 1.7396 - val_accuracy: 0.3709\n",
            "Epoch 27/50\n",
            "40000/40000 [==============================] - 1s 15us/step - loss: 1.6602 - accuracy: 0.3940 - val_loss: 1.7380 - val_accuracy: 0.3719\n",
            "Epoch 28/50\n",
            "40000/40000 [==============================] - 1s 15us/step - loss: 1.6578 - accuracy: 0.3947 - val_loss: 1.7374 - val_accuracy: 0.3728\n",
            "Epoch 29/50\n",
            "40000/40000 [==============================] - 1s 15us/step - loss: 1.6556 - accuracy: 0.3957 - val_loss: 1.7367 - val_accuracy: 0.3732\n",
            "Epoch 30/50\n",
            "40000/40000 [==============================] - 1s 15us/step - loss: 1.6535 - accuracy: 0.3966 - val_loss: 1.7350 - val_accuracy: 0.3739\n",
            "Epoch 31/50\n",
            "40000/40000 [==============================] - 1s 15us/step - loss: 1.6513 - accuracy: 0.3975 - val_loss: 1.7323 - val_accuracy: 0.3736\n",
            "Epoch 32/50\n",
            "40000/40000 [==============================] - 1s 15us/step - loss: 1.6491 - accuracy: 0.3977 - val_loss: 1.7298 - val_accuracy: 0.3743\n",
            "Epoch 33/50\n",
            "40000/40000 [==============================] - 1s 15us/step - loss: 1.6469 - accuracy: 0.3983 - val_loss: 1.7281 - val_accuracy: 0.3744\n",
            "Epoch 34/50\n",
            "40000/40000 [==============================] - 1s 15us/step - loss: 1.6448 - accuracy: 0.3994 - val_loss: 1.7270 - val_accuracy: 0.3759\n",
            "Epoch 35/50\n",
            "40000/40000 [==============================] - 1s 15us/step - loss: 1.6427 - accuracy: 0.4009 - val_loss: 1.7258 - val_accuracy: 0.3770\n",
            "Epoch 36/50\n",
            "40000/40000 [==============================] - 1s 15us/step - loss: 1.6408 - accuracy: 0.4016 - val_loss: 1.7238 - val_accuracy: 0.3777\n",
            "Epoch 37/50\n",
            "40000/40000 [==============================] - 1s 15us/step - loss: 1.6388 - accuracy: 0.4026 - val_loss: 1.7216 - val_accuracy: 0.3771\n",
            "Epoch 38/50\n",
            "40000/40000 [==============================] - 1s 15us/step - loss: 1.6370 - accuracy: 0.4032 - val_loss: 1.7197 - val_accuracy: 0.3776\n",
            "Epoch 39/50\n",
            "40000/40000 [==============================] - 1s 15us/step - loss: 1.6352 - accuracy: 0.4038 - val_loss: 1.7184 - val_accuracy: 0.3795\n",
            "Epoch 40/50\n",
            "40000/40000 [==============================] - 1s 15us/step - loss: 1.6335 - accuracy: 0.4045 - val_loss: 1.7174 - val_accuracy: 0.3810\n",
            "Epoch 41/50\n",
            "40000/40000 [==============================] - 1s 15us/step - loss: 1.6318 - accuracy: 0.4051 - val_loss: 1.7162 - val_accuracy: 0.3813\n",
            "Epoch 42/50\n",
            "40000/40000 [==============================] - 1s 15us/step - loss: 1.6302 - accuracy: 0.4062 - val_loss: 1.7145 - val_accuracy: 0.3820\n",
            "Epoch 43/50\n",
            "40000/40000 [==============================] - 1s 15us/step - loss: 1.6285 - accuracy: 0.4067 - val_loss: 1.7127 - val_accuracy: 0.3834\n",
            "Epoch 44/50\n",
            "40000/40000 [==============================] - 1s 15us/step - loss: 1.6269 - accuracy: 0.4071 - val_loss: 1.7113 - val_accuracy: 0.3832\n",
            "Epoch 45/50\n",
            "40000/40000 [==============================] - 1s 15us/step - loss: 1.6254 - accuracy: 0.4082 - val_loss: 1.7103 - val_accuracy: 0.3832\n",
            "Epoch 46/50\n",
            "40000/40000 [==============================] - 1s 15us/step - loss: 1.6238 - accuracy: 0.4092 - val_loss: 1.7096 - val_accuracy: 0.3832\n",
            "Epoch 47/50\n",
            "40000/40000 [==============================] - 1s 15us/step - loss: 1.6223 - accuracy: 0.4102 - val_loss: 1.7085 - val_accuracy: 0.3843\n",
            "Epoch 48/50\n",
            "40000/40000 [==============================] - 1s 15us/step - loss: 1.6209 - accuracy: 0.4107 - val_loss: 1.7068 - val_accuracy: 0.3843\n",
            "Epoch 49/50\n",
            "40000/40000 [==============================] - 1s 15us/step - loss: 1.6195 - accuracy: 0.4114 - val_loss: 1.7053 - val_accuracy: 0.3844\n",
            "Epoch 50/50\n",
            "40000/40000 [==============================] - 1s 15us/step - loss: 1.6182 - accuracy: 0.4119 - val_loss: 1.7044 - val_accuracy: 0.3863\n"
          ],
          "name": "stdout"
        },
        {
          "output_type": "execute_result",
          "data": {
            "text/plain": [
              "<keras.callbacks.callbacks.History at 0x7fbe3d8a9470>"
            ]
          },
          "metadata": {
            "tags": []
          },
          "execution_count": 40
        }
      ]
    },
    {
      "cell_type": "code",
      "metadata": {
        "colab_type": "code",
        "id": "8qvdOMrU6Fcc",
        "colab": {}
      },
      "source": [
        "def show_random_prediction(x, y, model):\n",
        "  pool = len(x)\n",
        "  random_int = np.random.randint(low=0, high=pool)\n",
        "  if len(model.input.shape) == 2:\n",
        "    sample = x[random_int].reshape(1, -1)\n",
        "  else:\n",
        "    sample = x[random_int][None, ...]\n",
        "  prediction = model.predict(sample)\n",
        "  plt.figure(figsize=(2, 2))\n",
        "  plt.imshow(x[random_int])\n",
        "  print('Predicted label:', np.argmax(prediction))\n",
        "  print('Actual label:', y[random_int][0])"
      ],
      "execution_count": 0,
      "outputs": []
    },
    {
      "cell_type": "code",
      "metadata": {
        "colab_type": "code",
        "id": "36MMTlXT6Ogy",
        "outputId": "c4ffa5a1-b4a9-438f-dafa-6855f5c54766",
        "colab": {
          "base_uri": "https://localhost:8080/",
          "height": 193
        }
      },
      "source": [
        "# rerun this cell to show random predictions\n",
        "show_random_prediction(X_train, y_train, dense_network)"
      ],
      "execution_count": 0,
      "outputs": [
        {
          "output_type": "stream",
          "text": [
            "Predicted label: 0\n",
            "Actual label: 0\n"
          ],
          "name": "stdout"
        },
        {
          "output_type": "display_data",
          "data": {
            "image/png": "[encoded data removed]",
            "text/plain": [
              "<Figure size 144x144 with 1 Axes>"
            ]
          },
          "metadata": {
            "tags": [],
            "needs_background": "light"
          }
        }
      ]
    },
    {
      "cell_type": "markdown",
      "metadata": {
        "colab_type": "text",
        "id": "QgfpKfyO2RaL"
      },
      "source": [
        "# Convolutions"
      ]
    },
    {
      "cell_type": "code",
      "metadata": {
        "colab_type": "code",
        "id": "3ooQWLWFLcIM",
        "colab": {}
      },
      "source": [
        "# write a fuction that converts RGB images (32, 32, 3) to grayscale (32, 32)\n",
        "# you can just take an average of all channels (easy way)\n",
        "# the more elegant method is to extract weighted average (luminosity method)\n",
        "# the weights are: 0.29 R + 0.58 G + 0.11 B\n",
        "def rgb2gray(img):\n",
        "  R, G, B = img[:, :, 0], img[:, :, 1], img[:, :, 2]\n",
        "  return 0.29 * R + 0.58 * G + 0.11 * B"
      ],
      "execution_count": 0,
      "outputs": []
    },
    {
      "cell_type": "code",
      "metadata": {
        "colab_type": "code",
        "id": "5IMIjelpMSI6",
        "outputId": "2231dc86-a80b-4492-d6cc-5b044b401a59",
        "colab": {
          "base_uri": "https://localhost:8080/",
          "height": 283
        }
      },
      "source": [
        "example_img_gray = rgb2gray(example_img)\n",
        "plt.imshow(example_img_gray, cmap='gray')"
      ],
      "execution_count": 0,
      "outputs": [
        {
          "output_type": "execute_result",
          "data": {
            "text/plain": [
              "<matplotlib.image.AxesImage at 0x7fddaf2fbb38>"
            ]
          },
          "metadata": {
            "tags": []
          },
          "execution_count": 14
        },
        {
          "output_type": "display_data",
          "data": {
            "image/png": "[encoded data removed]",
            "text/plain": [
              "<Figure size 432x288 with 1 Axes>"
            ]
          },
          "metadata": {
            "tags": [],
            "needs_background": "light"
          }
        }
      ]
    },
    {
      "cell_type": "code",
      "metadata": {
        "colab_type": "code",
        "id": "mO5rzGPhi8ku",
        "colab": {}
      },
      "source": [
        "# we will create convolutional filter using keras.layers.Conv2D class\n",
        "from keras.layers import Conv2D\n",
        "\n",
        "conv_filter = Sequential()\n",
        "##TODO\n",
        "# add one convolutional layer that will be a single filter of kernel size = 3\n",
        "# use 'valid' padding and set the name parameter as 'convolution'\n",
        "# remember to set input_shape (but now it will be 3-dimensional)\n",
        "conv_filter.add(Conv2D())"
      ],
      "execution_count": 0,
      "outputs": []
    },
    {
      "cell_type": "code",
      "metadata": {
        "colab_type": "code",
        "id": "mhKq7wUuY385",
        "colab": {}
      },
      "source": [
        "# reshape example_img_gray to include also batch size\n",
        "example_img_gray = example_img_gray.reshape(1, 32, 32, 1)"
      ],
      "execution_count": 0,
      "outputs": []
    },
    {
      "cell_type": "code",
      "metadata": {
        "colab_type": "code",
        "id": "yAc2rq_VSpA-",
        "colab": {}
      },
      "source": [
        "# display how conv_filter changes image\n",
        "result = conv_filter.predict(example_img_gray).reshape(30, 30)\n",
        "plt.imshow(result, cmap='gray')"
      ],
      "execution_count": 0,
      "outputs": []
    },
    {
      "cell_type": "code",
      "metadata": {
        "colab_type": "code",
        "id": "54WNMsaacDSm",
        "colab": {}
      },
      "source": [
        "# print conv_filter weights\n",
        "conv_filter.get_layer(name='convolution').get_weights()"
      ],
      "execution_count": 0,
      "outputs": []
    },
    {
      "cell_type": "code",
      "metadata": {
        "colab_type": "code",
        "id": "2JqHX1QLdsy2",
        "colab": {}
      },
      "source": [
        "# let's define custom kernel! \n",
        "# Some of useful kernel patterns are presented here: \n",
        "# https://en.wikipedia.org/wiki/Kernel_(image_processing)\n",
        "# ofc you can define your own values\n",
        "# for the example, I'll use edge detection kernel\n",
        "kernel = np.array([\n",
        "                   [0, 1, 0], \n",
        "                   [1, -4, 1],\n",
        "                   [0, 1, 0]\n",
        "])\n",
        "\n",
        "# as you can see above, extracted parameters from Conv2D layer are a list\n",
        "# The list has two elements:\n",
        "\n",
        "# first one is actual convolutional kernel of shape (k, k, n, m)\n",
        "# where k is a kernel size\n",
        "# n is number of channels in previous layer\n",
        "# m is number of channels in actual layer\n",
        "\n",
        "# the second element of Conv2D parameters list is just a bias parameter\n",
        "# we will set it to 0. for the experiment\n",
        "kernel = [kernel.reshape(3, 3, 1, 1), np.array([0.])]"
      ],
      "execution_count": 0,
      "outputs": []
    },
    {
      "cell_type": "code",
      "metadata": {
        "colab_type": "code",
        "id": "2Y8dxTS2U-f8",
        "colab": {}
      },
      "source": [
        "conv_filter.get_layer(name='convolution').set_weights(kernel)"
      ],
      "execution_count": 0,
      "outputs": []
    },
    {
      "cell_type": "code",
      "metadata": {
        "colab_type": "code",
        "id": "d6Cwn9iDVfYi",
        "colab": {
          "base_uri": "https://localhost:8080/",
          "height": 164
        },
        "outputId": "99fbee33-ad13-4d5e-a01b-1c4ab3716fe7"
      },
      "source": [
        "conv_filter.get_layer(name='convolutions').get_weights()"
      ],
      "execution_count": 8,
      "outputs": [
        {
          "output_type": "error",
          "ename": "NameError",
          "evalue": "ignored",
          "traceback": [
            "\u001b[0;31m---------------------------------------------------------------------------\u001b[0m",
            "\u001b[0;31mNameError\u001b[0m                                 Traceback (most recent call last)",
            "\u001b[0;32m<ipython-input-8-5904e9338708>\u001b[0m in \u001b[0;36m<module>\u001b[0;34m()\u001b[0m\n\u001b[0;32m----> 1\u001b[0;31m \u001b[0mconv_filter\u001b[0m\u001b[0;34m.\u001b[0m\u001b[0mget_layer\u001b[0m\u001b[0;34m(\u001b[0m\u001b[0mname\u001b[0m\u001b[0;34m=\u001b[0m\u001b[0;34m'convolutions'\u001b[0m\u001b[0;34m)\u001b[0m\u001b[0;34m.\u001b[0m\u001b[0mget_weights\u001b[0m\u001b[0;34m(\u001b[0m\u001b[0;34m)\u001b[0m\u001b[0;34m\u001b[0m\u001b[0;34m\u001b[0m\u001b[0m\n\u001b[0m",
            "\u001b[0;31mNameError\u001b[0m: name 'conv_filter' is not defined"
          ]
        }
      ]
    },
    {
      "cell_type": "code",
      "metadata": {
        "colab_type": "code",
        "id": "G1M93XkKV3Ks",
        "colab": {}
      },
      "source": [
        "# display image processed by your custom filter\n",
        "result = conv_filter.predict(example_img_gray).reshape(30, 30)\n",
        "plt.imshow(result, cmap='gray')"
      ],
      "execution_count": 0,
      "outputs": []
    },
    {
      "cell_type": "markdown",
      "metadata": {
        "colab_type": "text",
        "id": "mOdlwJxwFm3a"
      },
      "source": [
        "# LeNet\n",
        "![alt text](https://miro.medium.com/max/1700/1*AwJZkWLKabIicUPzSN6KCg.png)"
      ]
    },
    {
      "cell_type": "code",
      "metadata": {
        "colab_type": "code",
        "id": "SdE7r6bcFgAe",
        "colab": {}
      },
      "source": [
        "from keras.layers.pooling import MaxPool2D\n",
        "from keras.layers import Flatten, Conv2D, Dense\n",
        "from keras.models import Sequential\n",
        "# build your LeNet model !\n",
        "\n",
        "LeNet = Sequential()\n",
        "LeNet.add(Conv2D(filters=6, kernel_size=5, activation='relu', input_shape=(32, 32, 3)))\n",
        "LeNet.add(MaxPool2D())\n",
        "LeNet.add(Conv2D(filters=16, kernel_size=5, activation='relu'))\n",
        "LeNet.add(MaxPool2D())\n",
        "LeNet.add(Flatten())\n",
        "LeNet.add(Dense(120, activation='relu'))\n",
        "LeNet.add(Dense(84, activation='relu'))\n",
        "LeNet.add(Dense(10, activation='softmax'))"
      ],
      "execution_count": 0,
      "outputs": []
    },
    {
      "cell_type": "code",
      "metadata": {
        "id": "QsWRVkWnl9Ff",
        "colab_type": "code",
        "colab": {}
      },
      "source": [
        "example = X_train[0].reshape(1, 32, 32, 3)"
      ],
      "execution_count": 0,
      "outputs": []
    },
    {
      "cell_type": "code",
      "metadata": {
        "id": "PAA4tdV3l3tg",
        "colab_type": "code",
        "colab": {}
      },
      "source": [
        "result = LeNet.predict(example)"
      ],
      "execution_count": 0,
      "outputs": []
    },
    {
      "cell_type": "code",
      "metadata": {
        "id": "dkABkca8tBr-",
        "colab_type": "code",
        "outputId": "13b050d8-844d-48ca-dbf2-d7f17a151a79",
        "colab": {
          "base_uri": "https://localhost:8080/",
          "height": 68
        }
      },
      "source": [
        "result"
      ],
      "execution_count": 0,
      "outputs": [
        {
          "output_type": "execute_result",
          "data": {
            "text/plain": [
              "array([[8.6232219e-29, 2.3817610e-13, 1.5633797e-02, 1.8564396e-24,\n",
              "        1.9291572e-29, 9.8436618e-01, 2.6427485e-20, 6.7159961e-16,\n",
              "        2.5122427e-27, 5.1857469e-29]], dtype=float32)"
            ]
          },
          "metadata": {
            "tags": []
          },
          "execution_count": 71
        }
      ]
    },
    {
      "cell_type": "code",
      "metadata": {
        "id": "MXL4QEdFmcry",
        "colab_type": "code",
        "outputId": "f4d9159a-2dce-45b2-978b-87ee85c3d6e6",
        "colab": {
          "base_uri": "https://localhost:8080/",
          "height": 282
        }
      },
      "source": [
        "plt.imshow(result[0, :, :, 15], cmap='gray')"
      ],
      "execution_count": 0,
      "outputs": [
        {
          "output_type": "execute_result",
          "data": {
            "text/plain": [
              "<matplotlib.image.AxesImage at 0x7fdd16149f98>"
            ]
          },
          "metadata": {
            "tags": []
          },
          "execution_count": 61
        },
        {
          "output_type": "display_data",
          "data": {
            "image/png": "[encoded data removed]",
            "text/plain": [
              "<Figure size 432x288 with 1 Axes>"
            ]
          },
          "metadata": {
            "tags": [],
            "needs_background": "light"
          }
        }
      ]
    },
    {
      "cell_type": "code",
      "metadata": {
        "id": "r76epuqsskZc",
        "colab_type": "code",
        "outputId": "1dbdbd42-8e23-457d-87d2-a97954aaf37d",
        "colab": {
          "base_uri": "https://localhost:8080/",
          "height": 283
        }
      },
      "source": [
        "plt.imshow(example[0, :, :, :])"
      ],
      "execution_count": 0,
      "outputs": [
        {
          "output_type": "execute_result",
          "data": {
            "text/plain": [
              "<matplotlib.image.AxesImage at 0x7fdd165134a8>"
            ]
          },
          "metadata": {
            "tags": []
          },
          "execution_count": 43
        },
        {
          "output_type": "display_data",
          "data": {
            "image/png": "[encoded data removed]",
            "text/plain": [
              "<Figure size 432x288 with 1 Axes>"
            ]
          },
          "metadata": {
            "tags": [],
            "needs_background": "light"
          }
        }
      ]
    },
    {
      "cell_type": "code",
      "metadata": {
        "colab_type": "code",
        "id": "qQW9H0wUKQMy",
        "outputId": "fdb9adae-efe9-4626-d483-9c2a7f4bcacf",
        "colab": {
          "base_uri": "https://localhost:8080/",
          "height": 425
        }
      },
      "source": [
        "# print summary of your ConvNet\n",
        "LeNet.summary()"
      ],
      "execution_count": 0,
      "outputs": [
        {
          "output_type": "stream",
          "text": [
            "Model: \"sequential_6\"\n",
            "_________________________________________________________________\n",
            "Layer (type)                 Output Shape              Param #   \n",
            "=================================================================\n",
            "conv2d_7 (Conv2D)            (None, 28, 28, 6)         456       \n",
            "_________________________________________________________________\n",
            "max_pooling2d_5 (MaxPooling2 (None, 14, 14, 6)         0         \n",
            "_________________________________________________________________\n",
            "conv2d_8 (Conv2D)            (None, 10, 10, 16)        2416      \n",
            "_________________________________________________________________\n",
            "max_pooling2d_6 (MaxPooling2 (None, 5, 5, 16)          0         \n",
            "_________________________________________________________________\n",
            "flatten_2 (Flatten)          (None, 400)               0         \n",
            "_________________________________________________________________\n",
            "dense_1 (Dense)              (None, 120)               48120     \n",
            "_________________________________________________________________\n",
            "dense_2 (Dense)              (None, 84)                10164     \n",
            "_________________________________________________________________\n",
            "dense_3 (Dense)              (None, 10)                850       \n",
            "=================================================================\n",
            "Total params: 62,006\n",
            "Trainable params: 62,006\n",
            "Non-trainable params: 0\n",
            "_________________________________________________________________\n"
          ],
          "name": "stdout"
        }
      ]
    },
    {
      "cell_type": "code",
      "metadata": {
        "colab_type": "code",
        "id": "7wacO2HaMOED",
        "colab": {}
      },
      "source": [
        "from keras.optimizers import Adam\n",
        "# compile your model, using:\n",
        "# 1. Categorical crossentropy loss\n",
        "# 2. Accuracy metric\n",
        "# 3. Any optimizer you want (in most cases Adam provides good performance)\n",
        "LeNet.compile(loss='categorical_crossentropy', optimizer=Adam(), metrics=['accuracy'])"
      ],
      "execution_count": 0,
      "outputs": []
    },
    {
      "cell_type": "code",
      "metadata": {
        "colab_type": "code",
        "id": "xlqIafvPOIIv",
        "colab": {}
      },
      "source": [
        "# now use X_train as feature data (since it is not flattened)\n",
        "# do not flatten, keep 4 dimensions (#examples, width, height, #channels)\n",
        "# the only thing to do is to reduce the value range from (0; 255) to (0; 1)\n",
        "# last time we did the normalization for 'X_train_flat', not 'X_train'\n",
        "X_train = X_train / 255."
      ],
      "execution_count": 0,
      "outputs": []
    },
    {
      "cell_type": "code",
      "metadata": {
        "colab_type": "code",
        "id": "fHKOy2__Ojb_",
        "colab": {}
      },
      "source": [
        "# if you still have 'y' variable saved as one hot encoded labels, keep going\n",
        "# otherwise just run this cell\n",
        "y = keras.utils.to_categorical(y_train)"
      ],
      "execution_count": 0,
      "outputs": []
    },
    {
      "cell_type": "code",
      "metadata": {
        "colab_type": "code",
        "id": "jHCaG2bSN3eX",
        "outputId": "cdffa838-305f-4fdc-d437-ac4304228e97",
        "colab": {
          "base_uri": "https://localhost:8080/",
          "height": 731
        }
      },
      "source": [
        "# now train your LeNet with the X_train and y\n",
        "# leave the rest of parameters the same (as for Dense), so you can compare\n",
        "# which network learns better\n",
        "LeNet.fit(x=X_train, y=y, batch_size=32, validation_split=0.2, epochs=20)"
      ],
      "execution_count": 0,
      "outputs": [
        {
          "output_type": "stream",
          "text": [
            "Train on 40000 samples, validate on 10000 samples\n",
            "Epoch 1/20\n",
            "40000/40000 [==============================] - 6s 158us/step - loss: 1.3757 - accuracy: 0.5003 - val_loss: 1.3176 - val_accuracy: 0.5255\n",
            "Epoch 2/20\n",
            "40000/40000 [==============================] - 6s 157us/step - loss: 1.2637 - accuracy: 0.5443 - val_loss: 1.2612 - val_accuracy: 0.5507\n",
            "Epoch 3/20\n",
            "40000/40000 [==============================] - 6s 157us/step - loss: 1.1841 - accuracy: 0.5741 - val_loss: 1.2258 - val_accuracy: 0.5647\n",
            "Epoch 4/20\n",
            "40000/40000 [==============================] - 6s 158us/step - loss: 1.1211 - accuracy: 0.6001 - val_loss: 1.2026 - val_accuracy: 0.5724\n",
            "Epoch 5/20\n",
            "40000/40000 [==============================] - 6s 156us/step - loss: 1.0663 - accuracy: 0.6205 - val_loss: 1.1644 - val_accuracy: 0.5898\n",
            "Epoch 6/20\n",
            "40000/40000 [==============================] - 6s 155us/step - loss: 1.0226 - accuracy: 0.6361 - val_loss: 1.2267 - val_accuracy: 0.5695\n",
            "Epoch 7/20\n",
            "40000/40000 [==============================] - 6s 158us/step - loss: 0.9855 - accuracy: 0.6493 - val_loss: 1.1388 - val_accuracy: 0.6053\n",
            "Epoch 8/20\n",
            "40000/40000 [==============================] - 6s 158us/step - loss: 0.9424 - accuracy: 0.6645 - val_loss: 1.1680 - val_accuracy: 0.5928\n",
            "Epoch 9/20\n",
            "40000/40000 [==============================] - 6s 158us/step - loss: 0.9058 - accuracy: 0.6772 - val_loss: 1.1435 - val_accuracy: 0.6058\n",
            "Epoch 10/20\n",
            "40000/40000 [==============================] - 6s 156us/step - loss: 0.8751 - accuracy: 0.6897 - val_loss: 1.2656 - val_accuracy: 0.5762\n",
            "Epoch 11/20\n",
            "40000/40000 [==============================] - 6s 157us/step - loss: 0.8392 - accuracy: 0.7026 - val_loss: 1.2316 - val_accuracy: 0.5932\n",
            "Epoch 12/20\n",
            "40000/40000 [==============================] - 6s 156us/step - loss: 0.8089 - accuracy: 0.7125 - val_loss: 1.2047 - val_accuracy: 0.5958\n",
            "Epoch 13/20\n",
            "40000/40000 [==============================] - 6s 156us/step - loss: 0.7863 - accuracy: 0.7205 - val_loss: 1.2082 - val_accuracy: 0.6074\n",
            "Epoch 14/20\n",
            "40000/40000 [==============================] - 6s 158us/step - loss: 0.7598 - accuracy: 0.7283 - val_loss: 1.2223 - val_accuracy: 0.5975\n",
            "Epoch 15/20\n",
            "40000/40000 [==============================] - 6s 155us/step - loss: 0.7266 - accuracy: 0.7416 - val_loss: 1.2239 - val_accuracy: 0.6071\n",
            "Epoch 16/20\n",
            "40000/40000 [==============================] - 6s 157us/step - loss: 0.7055 - accuracy: 0.7481 - val_loss: 1.2889 - val_accuracy: 0.5981\n",
            "Epoch 17/20\n",
            "40000/40000 [==============================] - 6s 156us/step - loss: 0.6819 - accuracy: 0.7574 - val_loss: 1.3288 - val_accuracy: 0.5951\n",
            "Epoch 18/20\n",
            "40000/40000 [==============================] - 6s 157us/step - loss: 0.6613 - accuracy: 0.7640 - val_loss: 1.3298 - val_accuracy: 0.6063\n",
            "Epoch 19/20\n",
            "40000/40000 [==============================] - 6s 156us/step - loss: 0.6423 - accuracy: 0.7692 - val_loss: 1.3338 - val_accuracy: 0.6071\n",
            "Epoch 20/20\n",
            "40000/40000 [==============================] - 6s 157us/step - loss: 0.6200 - accuracy: 0.7782 - val_loss: 1.3835 - val_accuracy: 0.5966\n"
          ],
          "name": "stdout"
        },
        {
          "output_type": "execute_result",
          "data": {
            "text/plain": [
              "<keras.callbacks.callbacks.History at 0x7fdd3c0856d8>"
            ]
          },
          "metadata": {
            "tags": []
          },
          "execution_count": 79
        }
      ]
    },
    {
      "cell_type": "code",
      "metadata": {
        "colab_type": "code",
        "id": "NMWBDpyTSr2i",
        "colab": {}
      },
      "source": [
        "# rerun this cell to show random predictions\n",
        "show_random_prediction(X_train, y_train, LeNet)"
      ],
      "execution_count": 0,
      "outputs": []
    },
    {
      "cell_type": "markdown",
      "metadata": {
        "colab_type": "text",
        "id": "2LZko2G3UzvP"
      },
      "source": [
        "# Inception\n",
        "![alt text](https://miro.medium.com/max/1920/1*gqKM5V-uo2sMFFPDS84yJw.png)"
      ]
    },
    {
      "cell_type": "code",
      "metadata": {
        "colab_type": "code",
        "id": "lOU-qO6CS4v_",
        "colab": {}
      },
      "source": [
        "from keras.applications.inception_v3 import InceptionV3\n",
        "from matplotlib.image import imread\n",
        "from cv2 import resize, flip"
      ],
      "execution_count": 0,
      "outputs": []
    },
    {
      "cell_type": "markdown",
      "metadata": {
        "colab_type": "text",
        "id": "zoWs5adLddRh"
      },
      "source": [
        "# Data preparation"
      ]
    },
    {
      "cell_type": "markdown",
      "metadata": {
        "colab_type": "text",
        "id": "-TSJkKvreAHd"
      },
      "source": [
        "For higher-resolution images example I've prepared dataset from Kaggle: https://www.kaggle.com/slothkong/10-monkey-species.\n",
        "The dataset contains ~1.5k images of 10 monkey species. Code below preprocess this images to feed and fine-tune Inception for monkey classification task.\n",
        "\n",
        "Ofc you can use your own idea for fine-tuning task. Feel free to improvise, otherwise you can play with the code below."
      ]
    },
    {
      "cell_type": "code",
      "metadata": {
        "colab_type": "code",
        "id": "j26qg9pRpC0O",
        "outputId": "168d3242-2958-425b-cc62-0c3793a126fc",
        "colab": {
          "base_uri": "https://localhost:8080/",
          "height": 153
        }
      },
      "source": [
        "! git clone https://github.com/Drpulti/monkey_images.git"
      ],
      "execution_count": 0,
      "outputs": [
        {
          "output_type": "stream",
          "text": [
            "Cloning into 'monkey_images'...\n",
            "remote: Enumerating objects: 5, done.\u001b[K\n",
            "remote: Counting objects: 100% (5/5), done.\u001b[K\n",
            "remote: Compressing objects: 100% (5/5), done.\u001b[K\n",
            "remote: Total 1304 (delta 0), reused 2 (delta 0), pack-reused 1299\u001b[K\n",
            "Receiving objects: 100% (1304/1304), 500.01 MiB | 45.58 MiB/s, done.\n",
            "Resolving deltas: 100% (2/2), done.\n",
            "Checking out files: 100% (1373/1373), done.\n"
          ],
          "name": "stdout"
        }
      ]
    },
    {
      "cell_type": "code",
      "metadata": {
        "colab_type": "code",
        "id": "2YDwN-wdZJLd",
        "colab": {}
      },
      "source": [
        "import pandas as pd\n",
        "monkey_labels = pd.read_csv('monkey_images/monkey_labels.txt')"
      ],
      "execution_count": 0,
      "outputs": []
    },
    {
      "cell_type": "code",
      "metadata": {
        "colab_type": "code",
        "id": "wW0xWHd7LGJt",
        "colab": {}
      },
      "source": [
        "# this DataFrame needs some preprocessing because it's messy\n",
        "monkey_labels.iloc[:, 0] = monkey_labels.iloc[:, 0].apply(lambda x: x.split()[0])\n",
        "monkey_labels.iloc[:, 2] = monkey_labels.iloc[:, 2].apply(lambda x: x.split()[0])"
      ],
      "execution_count": 0,
      "outputs": []
    },
    {
      "cell_type": "code",
      "metadata": {
        "colab_type": "code",
        "id": "ipCWvm9FKuJ8",
        "colab": {
          "base_uri": "https://localhost:8080/",
          "height": 181
        },
        "outputId": "e8cf6b23-f704-4d4f-bdfa-5a58ab13eab7"
      },
      "source": [
        "labels_dict = dict(zip(monkey_labels.iloc[:, 0], monkey_labels.iloc[:, 2]))\n",
        "labels_ids = dict(zip(monkey_labels.iloc[:, 0], range(len(monkey_labels))))"
      ],
      "execution_count": 1,
      "outputs": [
        {
          "output_type": "error",
          "ename": "NameError",
          "evalue": "ignored",
          "traceback": [
            "\u001b[0;31m---------------------------------------------------------------------------\u001b[0m",
            "\u001b[0;31mNameError\u001b[0m                                 Traceback (most recent call last)",
            "\u001b[0;32m<ipython-input-1-2dac8e50edbc>\u001b[0m in \u001b[0;36m<module>\u001b[0;34m()\u001b[0m\n\u001b[0;32m----> 1\u001b[0;31m \u001b[0mlabels_dict\u001b[0m \u001b[0;34m=\u001b[0m \u001b[0mdict\u001b[0m\u001b[0;34m(\u001b[0m\u001b[0mzip\u001b[0m\u001b[0;34m(\u001b[0m\u001b[0mmonkey_labels\u001b[0m\u001b[0;34m.\u001b[0m\u001b[0miloc\u001b[0m\u001b[0;34m[\u001b[0m\u001b[0;34m:\u001b[0m\u001b[0;34m,\u001b[0m \u001b[0;36m0\u001b[0m\u001b[0;34m]\u001b[0m\u001b[0;34m,\u001b[0m \u001b[0mmonkey_labels\u001b[0m\u001b[0;34m.\u001b[0m\u001b[0miloc\u001b[0m\u001b[0;34m[\u001b[0m\u001b[0;34m:\u001b[0m\u001b[0;34m,\u001b[0m \u001b[0;36m2\u001b[0m\u001b[0;34m]\u001b[0m\u001b[0;34m)\u001b[0m\u001b[0;34m)\u001b[0m\u001b[0;34m\u001b[0m\u001b[0;34m\u001b[0m\u001b[0m\n\u001b[0m\u001b[1;32m      2\u001b[0m \u001b[0mlabels_ids\u001b[0m \u001b[0;34m=\u001b[0m \u001b[0mdict\u001b[0m\u001b[0;34m(\u001b[0m\u001b[0mzip\u001b[0m\u001b[0;34m(\u001b[0m\u001b[0mmonkey_labels\u001b[0m\u001b[0;34m.\u001b[0m\u001b[0miloc\u001b[0m\u001b[0;34m[\u001b[0m\u001b[0;34m:\u001b[0m\u001b[0;34m,\u001b[0m \u001b[0;36m0\u001b[0m\u001b[0;34m]\u001b[0m\u001b[0;34m,\u001b[0m \u001b[0mrange\u001b[0m\u001b[0;34m(\u001b[0m\u001b[0mlen\u001b[0m\u001b[0;34m(\u001b[0m\u001b[0mmonkey_labels\u001b[0m\u001b[0;34m)\u001b[0m\u001b[0;34m)\u001b[0m\u001b[0;34m)\u001b[0m\u001b[0;34m)\u001b[0m\u001b[0;34m\u001b[0m\u001b[0;34m\u001b[0m\u001b[0m\n",
            "\u001b[0;31mNameError\u001b[0m: name 'monkey_labels' is not defined"
          ]
        }
      ]
    },
    {
      "cell_type": "code",
      "metadata": {
        "colab_type": "code",
        "id": "u3RxNHjPekuQ",
        "colab": {}
      },
      "source": [
        "def crop_and_resize(img, width, height):\n",
        "  w, h, c = img.shape\n",
        "  if w-h == 0:\n",
        "    return resize(img, (width, height))\n",
        "  if w > h:\n",
        "    diff = w-h\n",
        "    img = img[diff//2:-diff//2, :, :]\n",
        "  else:\n",
        "    diff = h-w\n",
        "    img = img[:, diff//2:-diff//2, :]\n",
        "  return resize(img, (width, height))"
      ],
      "execution_count": 0,
      "outputs": []
    },
    {
      "cell_type": "code",
      "metadata": {
        "colab_type": "code",
        "id": "eAkqc0yxdaEN",
        "outputId": "9fd63a82-a8e9-44a5-ad34-64bd57018859",
        "colab": {
          "base_uri": "https://localhost:8080/",
          "height": 187
        }
      },
      "source": [
        "# target image resolution would be (299, 299). It's the inception's input size\n",
        "width = 299\n",
        "height = 299\n",
        "train_path = 'monkey_images/training/training/'\n",
        "\n",
        "# placeholders for image data and labels\n",
        "images = []\n",
        "labels = []\n",
        "\n",
        "for directory in os.listdir(train_path):\n",
        "  print(directory)\n",
        "  for img in os.listdir(train_path + directory):\n",
        "    img = imread(train_path + directory + '/' + img)\n",
        "    img = crop_and_resize(img, width, height)\n",
        "    images.append(img)\n",
        "    labels.append(labels_ids[directory])\n",
        "\n",
        "    # add also mirrored version of training image, to increase image pool size\n",
        "    images.append(flip(img, 1))\n",
        "    labels.append(labels_ids[directory])"
      ],
      "execution_count": 0,
      "outputs": [
        {
          "output_type": "stream",
          "text": [
            "n1\n",
            "n3\n",
            "n8\n",
            "n5\n",
            "n9\n",
            "n2\n",
            "n4\n",
            "n7\n",
            "n0\n",
            "n6\n"
          ],
          "name": "stdout"
        }
      ]
    },
    {
      "cell_type": "code",
      "metadata": {
        "colab_type": "code",
        "id": "kJyBBspmTbQI",
        "outputId": "aeb8d9b8-ba37-4e63-b08f-d80c190fd230",
        "colab": {
          "base_uri": "https://localhost:8080/",
          "height": 187
        }
      },
      "source": [
        "# load validation images, this time we won't augment the data\n",
        "# it would corrupt the results\n",
        "validation_path = 'monkey_images/validation/validation/'\n",
        "val_images = []\n",
        "val_labels = []\n",
        "\n",
        "for directory in os.listdir(validation_path):\n",
        "  print(directory)\n",
        "  for img in os.listdir(validation_path + directory):\n",
        "    img = imread(validation_path + directory + '/' + img)\n",
        "    img = crop_and_resize(img, width, height)\n",
        "    val_images.append(img)\n",
        "    val_labels.append(labels_ids[directory])"
      ],
      "execution_count": 0,
      "outputs": [
        {
          "output_type": "stream",
          "text": [
            "n1\n",
            "n3\n",
            "n8\n",
            "n5\n",
            "n9\n",
            "n2\n",
            "n4\n",
            "n7\n",
            "n0\n",
            "n6\n"
          ],
          "name": "stdout"
        }
      ]
    },
    {
      "cell_type": "code",
      "metadata": {
        "colab_type": "code",
        "id": "fiSZFKayehkh",
        "colab": {}
      },
      "source": [
        "images = np.array(images)\n",
        "labels = np.array(labels).reshape(-1, 1)\n",
        "\n",
        "val_images = np.array(val_images)\n",
        "val_labels = np.array(val_labels).reshape(-1, 1)"
      ],
      "execution_count": 0,
      "outputs": []
    },
    {
      "cell_type": "code",
      "metadata": {
        "colab_type": "code",
        "id": "t0lJatrkNztv",
        "colab": {}
      },
      "source": [
        "images = images / 255.\n",
        "labels = to_categorical(labels)\n",
        "\n",
        "val_images = val_images / 255.\n",
        "val_labels = to_categorical(val_labels)"
      ],
      "execution_count": 0,
      "outputs": []
    },
    {
      "cell_type": "code",
      "metadata": {
        "colab_type": "code",
        "id": "Vc_5W29NPuon",
        "colab": {}
      },
      "source": [
        "from sklearn.utils import shuffle\n",
        "images, labels = shuffle(images, labels)"
      ],
      "execution_count": 0,
      "outputs": []
    },
    {
      "cell_type": "markdown",
      "metadata": {
        "colab_type": "text",
        "id": "d6ZZBErhQDjM"
      },
      "source": [
        "# Inception fine-tuning"
      ]
    },
    {
      "cell_type": "code",
      "metadata": {
        "colab_type": "code",
        "id": "pCVAKLFFP_1J",
        "colab": {
          "base_uri": "https://localhost:8080/",
          "height": 232
        },
        "outputId": "638bd4b9-39b6-416e-d4a7-46b06fca50a4"
      },
      "source": [
        "inception = InceptionV3(include_top=False, \n",
        "                        weights='imagenet', \n",
        "                        input_shape=(299, 299, 3))\n",
        "\n",
        "# freeze most of the Inception layers, leave only the last ones as 'Trainable'\n",
        "for layer in inception.layers[:-5]:\n",
        "  layer.trainable = False"
      ],
      "execution_count": 21,
      "outputs": [
        {
          "output_type": "error",
          "ename": "NameError",
          "evalue": "ignored",
          "traceback": [
            "\u001b[0;31m---------------------------------------------------------------------------\u001b[0m",
            "\u001b[0;31mNameError\u001b[0m                                 Traceback (most recent call last)",
            "\u001b[0;32m<ipython-input-21-f06f9b6ed09b>\u001b[0m in \u001b[0;36m<module>\u001b[0;34m()\u001b[0m\n\u001b[0;32m----> 1\u001b[0;31m inception = InceptionV3(include_top=False, \n\u001b[0m\u001b[1;32m      2\u001b[0m                         \u001b[0mweights\u001b[0m\u001b[0;34m=\u001b[0m\u001b[0;34m'imagenet'\u001b[0m\u001b[0;34m,\u001b[0m\u001b[0;34m\u001b[0m\u001b[0;34m\u001b[0m\u001b[0m\n\u001b[1;32m      3\u001b[0m                         input_shape=(299, 299, 3))\n\u001b[1;32m      4\u001b[0m \u001b[0;34m\u001b[0m\u001b[0m\n\u001b[1;32m      5\u001b[0m \u001b[0;31m# freeze most of the Inception layers, leave only the last ones as 'Trainable'\u001b[0m\u001b[0;34m\u001b[0m\u001b[0;34m\u001b[0m\u001b[0;34m\u001b[0m\u001b[0m\n",
            "\u001b[0;31mNameError\u001b[0m: name 'InceptionV3' is not defined"
          ]
        }
      ]
    },
    {
      "cell_type": "code",
      "metadata": {
        "colab_type": "code",
        "id": "HyKab2K0QWN1",
        "colab": {}
      },
      "source": [
        "# uncomment if you want to print Inception layers\n",
        "# inception.summary()"
      ],
      "execution_count": 0,
      "outputs": []
    },
    {
      "cell_type": "code",
      "metadata": {
        "colab_type": "code",
        "id": "aQjuu8dxQnM9",
        "colab": {}
      },
      "source": [
        "custom_inception = Sequential()\n",
        "custom_inception.add(inception)\n",
        "custom_inception.add(Flatten())\n",
        "custom_inception.add(Dense(10, activation='softmax'))"
      ],
      "execution_count": 0,
      "outputs": []
    },
    {
      "cell_type": "code",
      "metadata": {
        "colab_type": "code",
        "id": "ascrWbUFR3p9",
        "colab": {}
      },
      "source": [
        "custom_inception.summary()"
      ],
      "execution_count": 0,
      "outputs": []
    },
    {
      "cell_type": "code",
      "metadata": {
        "colab_type": "code",
        "id": "MHmUesyeQu_7",
        "colab": {}
      },
      "source": [
        "custom_inception.compile(optimizer=Adam(), loss='categorical_crossentropy', metrics=['accuracy'])"
      ],
      "execution_count": 0,
      "outputs": []
    },
    {
      "cell_type": "code",
      "metadata": {
        "colab_type": "code",
        "id": "ajisdIQIREa5",
        "colab": {}
      },
      "source": [
        "custom_inception.fit(x=images, y=labels, batch_size=16, epochs=20, validation_data=(val_images, val_labels))"
      ],
      "execution_count": 0,
      "outputs": []
    },
    {
      "cell_type": "code",
      "metadata": {
        "colab_type": "code",
        "id": "20f28Nk3SfqZ",
        "colab": {}
      },
      "source": [
        ""
      ],
      "execution_count": 0,
      "outputs": []
    }
  ]
}