{
  "nbformat": 4,
  "nbformat_minor": 0,
  "metadata": {
    "accelerator": "GPU",
    "colab": {
      "name": "Izabela Michalak Przetwarzanie obrazu.ipynb",
      "provenance": [],
      "collapsed_sections": [],
      "include_colab_link": true
    },
    "kernelspec": {
      "display_name": "Python 3",
      "language": "python",
      "name": "python3"
    },
    "language_info": {
      "codemirror_mode": {
        "name": "ipython",
        "version": 3
      },
      "file_extension": ".py",
      "mimetype": "text/x-python",
      "name": "python",
      "nbconvert_exporter": "python",
      "pygments_lexer": "ipython3",
      "version": "3.6.5"
    }
  },
  "cells": [
    {
      "cell_type": "markdown",
      "metadata": {
        "id": "view-in-github",
        "colab_type": "text"
      },
      "source": [
        "<a href=\"https://colab.research.google.com/github/DeltaINKDesign/Keras/blob/master/Izabela_Michalak_Przetwarzanie_obrazu.ipynb\" target=\"_parent\"><img src=\"https://colab.research.google.com/assets/colab-badge.svg\" alt=\"Open In Colab\"/></a>"
      ]
    },
    {
      "cell_type": "code",
      "metadata": {
        "colab_type": "code",
        "id": "_TLKdxv4fwDx",
        "colab": {}
      },
      "source": [
        "#%tensorflow_version 1.x\n",
        "import keras\n",
        "import os\n",
        "from keras import backend as K\n",
        "from keras.datasets import cifar10\n",
        "import matplotlib.pyplot as plt\n",
        "import numpy as np\n",
        "from copy import deepcopy\n",
        "import tensorflow as tf\n",
        "from keras.utils import to_categorical\n",
        "\n",
        "#tf.compat.v1.logging.set_verbosity(tf.compat.v1.logging.ERROR)"
      ],
      "execution_count": 0,
      "outputs": []
    },
    {
      "cell_type": "markdown",
      "metadata": {
        "colab_type": "text",
        "id": "zNQZtbspNrMF"
      },
      "source": [
        "# Gather the data"
      ]
    },
    {
      "cell_type": "code",
      "metadata": {
        "colab_type": "code",
        "id": "lhG7_A0PglI4",
        "colab": {}
      },
      "source": [
        "# load CIFAR 10 images\n",
        "# description of this dataset can be seen here:\n",
        "# https://www.cs.toronto.edu/~kriz/cifar.html\n",
        "\n",
        "(X_train, y_train), (X_test, y_test) = cifar10.load_data()"
      ],
      "execution_count": 0,
      "outputs": []
    },
    {
      "cell_type": "code",
      "metadata": {
        "colab_type": "code",
        "id": "FoQlVlpbhfVm",
        "outputId": "fa55c672-4478-4e62-cbba-48156584d9f5",
        "colab": {
          "base_uri": "https://localhost:8080/",
          "height": 34
        }
      },
      "source": [
        "# both X and y are numpy arrays\n",
        "# the most essential infomation about numpy arrays is in their shape\n",
        "X_train.shape"
      ],
      "execution_count": 11,
      "outputs": [
        {
          "output_type": "execute_result",
          "data": {
            "text/plain": [
              "(50000, 32, 32, 3)"
            ]
          },
          "metadata": {
            "tags": []
          },
          "execution_count": 11
        }
      ]
    },
    {
      "cell_type": "code",
      "metadata": {
        "colab_type": "code",
        "id": "IkWgb31vihuj",
        "outputId": "c6c52d09-95b0-4348-9699-b3355b2257f3",
        "colab": {
          "base_uri": "https://localhost:8080/",
          "height": 300
        }
      },
      "source": [
        "# assign seventh example from training batch to variable called \"example_img\"\n",
        "example_img = deepcopy(X_train[7])\n",
        "print('Label number for that class:', y_train[7])\n",
        "# display img\n",
        "plt.imshow(example_img)"
      ],
      "execution_count": 12,
      "outputs": [
        {
          "output_type": "stream",
          "text": [
            "Label number for that class: [7]\n"
          ],
          "name": "stdout"
        },
        {
          "output_type": "execute_result",
          "data": {
            "text/plain": [
              "<matplotlib.image.AxesImage at 0x7f28c05c3d68>"
            ]
          },
          "metadata": {
            "tags": []
          },
          "execution_count": 12
        },
        {
          "output_type": "display_data",
          "data": {
            "image/png": "[encoded data removed]",
            "text/plain": [
              "<Figure size 432x288 with 1 Axes>"
            ]
          },
          "metadata": {
            "tags": [],
            "needs_background": "light"
          }
        }
      ]
    },
    {
      "cell_type": "code",
      "metadata": {
        "colab_type": "code",
        "id": "dLiuG7VILVgL",
        "outputId": "6c79644a-6ca0-44d5-93d5-3874f59a176b",
        "colab": {
          "base_uri": "https://localhost:8080/",
          "height": 34
        }
      },
      "source": [
        "# print the shape of example_img\n",
        "example_img.shape"
      ],
      "execution_count": 13,
      "outputs": [
        {
          "output_type": "execute_result",
          "data": {
            "text/plain": [
              "(32, 32, 3)"
            ]
          },
          "metadata": {
            "tags": []
          },
          "execution_count": 13
        }
      ]
    },
    {
      "cell_type": "code",
      "metadata": {
        "colab_type": "code",
        "id": "v_WlqpncejXV",
        "outputId": "ae48f34c-f080-4ae4-bde0-535aa044b078",
        "colab": {
          "base_uri": "https://localhost:8080/",
          "height": 283
        }
      },
      "source": [
        "# extract first channel from example_img and assign it to 'red_channel' variable\n",
        "# red_channel var shape should be (32, 32)\n",
        "##TODO\n",
        "red_channel = example_img[:, :, 0]\n",
        "##TODO\n",
        "assert red_channel.shape == (32, 32)\n",
        "plt.imshow(np.concatenate([red_channel[..., None], \n",
        "                           np.zeros(shape=(32, 32, 2), dtype='int')], axis=-1))"
      ],
      "execution_count": 14,
      "outputs": [
        {
          "output_type": "execute_result",
          "data": {
            "text/plain": [
              "<matplotlib.image.AxesImage at 0x7f28c00987b8>"
            ]
          },
          "metadata": {
            "tags": []
          },
          "execution_count": 14
        },
        {
          "output_type": "display_data",
          "data": {
            "image/png": "[encoded data removed]",
            "text/plain": [
              "<Figure size 432x288 with 1 Axes>"
            ]
          },
          "metadata": {
            "tags": [],
            "needs_background": "light"
          }
        }
      ]
    },
    {
      "cell_type": "code",
      "metadata": {
        "colab_type": "code",
        "id": "Cb7iiZW7sHPv",
        "colab": {}
      },
      "source": [
        "##TODO\n",
        "# flatten the X_train examples ((50000, 32, 32, 3) -> (50000, 3072))\n",
        "# hint: you can use numpy reshape function\n",
        "X_train_flat = X_train.reshape(50000, 32*32*3)\n",
        "assert X_train_flat.shape == (50000, 3072)\n",
        "\n",
        "##TODO\n",
        "# convert the X_train_flat array value range from (0; 255) to (0; 1)\n",
        "X_train_flat = X_train_flat / 255.\n",
        "assert np.max(X_train_flat) <= 1.\n",
        "\n",
        "##TODO\n",
        "# convert y_train to one hot encoding\n",
        "# hint: you can use keras.utils.to_categorical function\n",
        "y = to_categorical(y_train)\n",
        "assert y.shape == (50000, 10)"
      ],
      "execution_count": 0,
      "outputs": []
    },
    {
      "cell_type": "markdown",
      "metadata": {
        "colab_type": "text",
        "id": "P45daHD9swLt"
      },
      "source": [
        "# Image classifier (dense neural network)"
      ]
    },
    {
      "cell_type": "code",
      "metadata": {
        "colab_type": "code",
        "id": "XlqSst6Kpqa1",
        "colab": {}
      },
      "source": [
        "from keras.models import Sequential\n",
        "from keras.layers import Dense\n",
        "from keras.optimizers import Adam"
      ],
      "execution_count": 0,
      "outputs": []
    },
    {
      "cell_type": "code",
      "metadata": {
        "colab_type": "code",
        "id": "7IH8AleDqLQA",
        "colab": {}
      },
      "source": [
        "# build a dense neural architecture that receives input vector of length 3072\n",
        "# and outputs prediction for 10 classes (softmax activation)\n",
        "# use Adam optimizer, categorical_crossentropy loss\n",
        "# our metrics will be accuracy\n",
        "\n",
        "dense_network = Sequential()\n",
        "dense_network.add(Dense(256, input_shape=(3072,), activation='relu'))\n",
        "dense_network.add(Dense(10, activation='softmax'))\n",
        "##TODO build your dense network !\n",
        "\n",
        "dense_network.compile(optimizer=Adam(), loss='categorical_crossentropy', metrics=['accuracy'])"
      ],
      "execution_count": 0,
      "outputs": []
    },
    {
      "cell_type": "code",
      "metadata": {
        "colab_type": "code",
        "id": "79oSBedNORWg",
        "outputId": "2d34b497-40d4-49dd-be4c-4b785e37066b",
        "colab": {
          "base_uri": "https://localhost:8080/",
          "height": 221
        }
      },
      "source": [
        "dense_network.summary()"
      ],
      "execution_count": 18,
      "outputs": [
        {
          "output_type": "stream",
          "text": [
            "Model: \"sequential_4\"\n",
            "_________________________________________________________________\n",
            "Layer (type)                 Output Shape              Param #   \n",
            "=================================================================\n",
            "dense_10 (Dense)             (None, 256)               786688    \n",
            "_________________________________________________________________\n",
            "dense_11 (Dense)             (None, 10)                2570      \n",
            "=================================================================\n",
            "Total params: 789,258\n",
            "Trainable params: 789,258\n",
            "Non-trainable params: 0\n",
            "_________________________________________________________________\n"
          ],
          "name": "stdout"
        }
      ]
    },
    {
      "cell_type": "code",
      "metadata": {
        "colab_type": "code",
        "id": "JZwwHU31thoP",
        "outputId": "2af09071-81d1-4a3c-bc93-6e0f8d25566f",
        "colab": {
          "base_uri": "https://localhost:8080/",
          "height": 1000
        }
      },
      "source": [
        "##TODO\n",
        "# train your network\n",
        "# use batch size 32, split the dataset into train/validation (0.7/0.3)\n",
        "# keep training for 10 epochs\n",
        "dense_network.fit(epochs=50, \n",
        "                  x=X_train_flat, \n",
        "                  y=y, \n",
        "                  batch_size=32, \n",
        "                  validation_split=0.2)"
      ],
      "execution_count": 19,
      "outputs": [
        {
          "output_type": "stream",
          "text": [
            "Train on 40000 samples, validate on 10000 samples\n",
            "Epoch 1/50\n",
            "40000/40000 [==============================] - 8s 190us/step - loss: 1.9092 - accuracy: 0.3160 - val_loss: 1.7933 - val_accuracy: 0.3533\n",
            "Epoch 2/50\n",
            "40000/40000 [==============================] - 7s 183us/step - loss: 1.7281 - accuracy: 0.3862 - val_loss: 1.7171 - val_accuracy: 0.3959\n",
            "Epoch 3/50\n",
            "40000/40000 [==============================] - 7s 184us/step - loss: 1.6608 - accuracy: 0.4086 - val_loss: 1.6807 - val_accuracy: 0.4034\n",
            "Epoch 4/50\n",
            "40000/40000 [==============================] - 7s 185us/step - loss: 1.6249 - accuracy: 0.4203 - val_loss: 1.6174 - val_accuracy: 0.4315\n",
            "Epoch 5/50\n",
            "40000/40000 [==============================] - 7s 185us/step - loss: 1.5983 - accuracy: 0.4299 - val_loss: 1.6250 - val_accuracy: 0.4195\n",
            "Epoch 6/50\n",
            "40000/40000 [==============================] - 7s 183us/step - loss: 1.5688 - accuracy: 0.4430 - val_loss: 1.6574 - val_accuracy: 0.4165\n",
            "Epoch 7/50\n",
            "40000/40000 [==============================] - 8s 195us/step - loss: 1.5520 - accuracy: 0.4480 - val_loss: 1.6258 - val_accuracy: 0.4274\n",
            "Epoch 8/50\n",
            "40000/40000 [==============================] - 7s 185us/step - loss: 1.5347 - accuracy: 0.4529 - val_loss: 1.6043 - val_accuracy: 0.4367\n",
            "Epoch 9/50\n",
            "40000/40000 [==============================] - 7s 185us/step - loss: 1.5248 - accuracy: 0.4554 - val_loss: 1.5862 - val_accuracy: 0.4446\n",
            "Epoch 10/50\n",
            "40000/40000 [==============================] - 7s 186us/step - loss: 1.5093 - accuracy: 0.4617 - val_loss: 1.5603 - val_accuracy: 0.4492\n",
            "Epoch 11/50\n",
            "40000/40000 [==============================] - 7s 186us/step - loss: 1.4994 - accuracy: 0.4662 - val_loss: 1.5907 - val_accuracy: 0.4477\n",
            "Epoch 12/50\n",
            "40000/40000 [==============================] - 7s 186us/step - loss: 1.4908 - accuracy: 0.4680 - val_loss: 1.6452 - val_accuracy: 0.4226\n",
            "Epoch 13/50\n",
            "40000/40000 [==============================] - 7s 184us/step - loss: 1.4813 - accuracy: 0.4733 - val_loss: 1.5481 - val_accuracy: 0.4538\n",
            "Epoch 14/50\n",
            "40000/40000 [==============================] - 7s 185us/step - loss: 1.4767 - accuracy: 0.4751 - val_loss: 1.5503 - val_accuracy: 0.4552\n",
            "Epoch 15/50\n",
            "40000/40000 [==============================] - 7s 184us/step - loss: 1.4678 - accuracy: 0.4755 - val_loss: 1.5582 - val_accuracy: 0.4466\n",
            "Epoch 16/50\n",
            "40000/40000 [==============================] - 7s 184us/step - loss: 1.4586 - accuracy: 0.4811 - val_loss: 1.5816 - val_accuracy: 0.4442\n",
            "Epoch 17/50\n",
            "40000/40000 [==============================] - 7s 184us/step - loss: 1.4544 - accuracy: 0.4798 - val_loss: 1.5348 - val_accuracy: 0.4544\n",
            "Epoch 18/50\n",
            "40000/40000 [==============================] - 8s 193us/step - loss: 1.4462 - accuracy: 0.4848 - val_loss: 1.5462 - val_accuracy: 0.4543\n",
            "Epoch 19/50\n",
            "40000/40000 [==============================] - 8s 195us/step - loss: 1.4392 - accuracy: 0.4880 - val_loss: 1.5483 - val_accuracy: 0.4577\n",
            "Epoch 20/50\n",
            "40000/40000 [==============================] - 7s 183us/step - loss: 1.4381 - accuracy: 0.4897 - val_loss: 1.5353 - val_accuracy: 0.4589\n",
            "Epoch 21/50\n",
            "40000/40000 [==============================] - 7s 183us/step - loss: 1.4311 - accuracy: 0.4938 - val_loss: 1.5396 - val_accuracy: 0.4591\n",
            "Epoch 22/50\n",
            "40000/40000 [==============================] - 7s 185us/step - loss: 1.4261 - accuracy: 0.4936 - val_loss: 1.5489 - val_accuracy: 0.4506\n",
            "Epoch 23/50\n",
            "40000/40000 [==============================] - 7s 184us/step - loss: 1.4214 - accuracy: 0.4934 - val_loss: 1.5681 - val_accuracy: 0.4456\n",
            "Epoch 24/50\n",
            "40000/40000 [==============================] - 7s 182us/step - loss: 1.4153 - accuracy: 0.4965 - val_loss: 1.5569 - val_accuracy: 0.4507\n",
            "Epoch 25/50\n",
            "40000/40000 [==============================] - 7s 185us/step - loss: 1.4136 - accuracy: 0.4972 - val_loss: 1.5538 - val_accuracy: 0.4507\n",
            "Epoch 26/50\n",
            "40000/40000 [==============================] - 7s 186us/step - loss: 1.4042 - accuracy: 0.4994 - val_loss: 1.5784 - val_accuracy: 0.4448\n",
            "Epoch 27/50\n",
            "40000/40000 [==============================] - 7s 182us/step - loss: 1.4007 - accuracy: 0.5030 - val_loss: 1.5671 - val_accuracy: 0.4554\n",
            "Epoch 28/50\n",
            "40000/40000 [==============================] - 7s 187us/step - loss: 1.4030 - accuracy: 0.5004 - val_loss: 1.5533 - val_accuracy: 0.4556\n",
            "Epoch 29/50\n",
            "40000/40000 [==============================] - 7s 185us/step - loss: 1.3922 - accuracy: 0.5059 - val_loss: 1.5231 - val_accuracy: 0.4654\n",
            "Epoch 30/50\n",
            "40000/40000 [==============================] - 7s 185us/step - loss: 1.3944 - accuracy: 0.5049 - val_loss: 1.5559 - val_accuracy: 0.4563\n",
            "Epoch 31/50\n",
            "40000/40000 [==============================] - 7s 186us/step - loss: 1.3862 - accuracy: 0.5071 - val_loss: 1.5260 - val_accuracy: 0.4631\n",
            "Epoch 32/50\n",
            "40000/40000 [==============================] - 7s 183us/step - loss: 1.3822 - accuracy: 0.5057 - val_loss: 1.5586 - val_accuracy: 0.4582\n",
            "Epoch 33/50\n",
            "40000/40000 [==============================] - 7s 184us/step - loss: 1.3822 - accuracy: 0.5081 - val_loss: 1.5380 - val_accuracy: 0.4594\n",
            "Epoch 34/50\n",
            "40000/40000 [==============================] - 7s 185us/step - loss: 1.3750 - accuracy: 0.5091 - val_loss: 1.5403 - val_accuracy: 0.4635\n",
            "Epoch 35/50\n",
            "40000/40000 [==============================] - 7s 187us/step - loss: 1.3718 - accuracy: 0.5117 - val_loss: 1.5396 - val_accuracy: 0.4583\n",
            "Epoch 36/50\n",
            "40000/40000 [==============================] - 7s 183us/step - loss: 1.3720 - accuracy: 0.5102 - val_loss: 1.5231 - val_accuracy: 0.4667\n",
            "Epoch 37/50\n",
            "40000/40000 [==============================] - 7s 184us/step - loss: 1.3686 - accuracy: 0.5129 - val_loss: 1.5613 - val_accuracy: 0.4535\n",
            "Epoch 38/50\n",
            "40000/40000 [==============================] - 7s 186us/step - loss: 1.3646 - accuracy: 0.5157 - val_loss: 1.5788 - val_accuracy: 0.4507\n",
            "Epoch 39/50\n",
            "40000/40000 [==============================] - 7s 186us/step - loss: 1.3605 - accuracy: 0.5164 - val_loss: 1.5233 - val_accuracy: 0.4629\n",
            "Epoch 40/50\n",
            "40000/40000 [==============================] - 7s 184us/step - loss: 1.3557 - accuracy: 0.5149 - val_loss: 1.5913 - val_accuracy: 0.4472\n",
            "Epoch 41/50\n",
            "40000/40000 [==============================] - 7s 185us/step - loss: 1.3564 - accuracy: 0.5173 - val_loss: 1.5429 - val_accuracy: 0.4616\n",
            "Epoch 42/50\n",
            "40000/40000 [==============================] - 7s 186us/step - loss: 1.3519 - accuracy: 0.5166 - val_loss: 1.5990 - val_accuracy: 0.4481\n",
            "Epoch 43/50\n",
            "40000/40000 [==============================] - 7s 184us/step - loss: 1.3485 - accuracy: 0.5199 - val_loss: 1.5178 - val_accuracy: 0.4690\n",
            "Epoch 44/50\n",
            "40000/40000 [==============================] - 7s 184us/step - loss: 1.3434 - accuracy: 0.5222 - val_loss: 1.5684 - val_accuracy: 0.4594\n",
            "Epoch 45/50\n",
            "40000/40000 [==============================] - 7s 184us/step - loss: 1.3415 - accuracy: 0.5237 - val_loss: 1.5250 - val_accuracy: 0.4670\n",
            "Epoch 46/50\n",
            "40000/40000 [==============================] - 7s 184us/step - loss: 1.3375 - accuracy: 0.5234 - val_loss: 1.5551 - val_accuracy: 0.4560\n",
            "Epoch 47/50\n",
            "40000/40000 [==============================] - 7s 185us/step - loss: 1.3382 - accuracy: 0.5230 - val_loss: 1.5490 - val_accuracy: 0.4616\n",
            "Epoch 48/50\n",
            "40000/40000 [==============================] - 8s 197us/step - loss: 1.3350 - accuracy: 0.5246 - val_loss: 1.5651 - val_accuracy: 0.4641\n",
            "Epoch 49/50\n",
            "40000/40000 [==============================] - 7s 186us/step - loss: 1.3279 - accuracy: 0.5276 - val_loss: 1.5553 - val_accuracy: 0.4594\n",
            "Epoch 50/50\n",
            "40000/40000 [==============================] - 7s 186us/step - loss: 1.3296 - accuracy: 0.5275 - val_loss: 1.5408 - val_accuracy: 0.4616\n"
          ],
          "name": "stdout"
        },
        {
          "output_type": "execute_result",
          "data": {
            "text/plain": [
              "<keras.callbacks.callbacks.History at 0x7f28c05e69e8>"
            ]
          },
          "metadata": {
            "tags": []
          },
          "execution_count": 19
        }
      ]
    },
    {
      "cell_type": "code",
      "metadata": {
        "colab_type": "code",
        "id": "8qvdOMrU6Fcc",
        "colab": {}
      },
      "source": [
        "def show_random_prediction(x, y, model):\n",
        "  pool = len(x)\n",
        "  random_int = np.random.randint(low=0, high=pool)\n",
        "  if len(model.input.shape) == 2:\n",
        "    sample = x[random_int].reshape(1, -1)\n",
        "  else:\n",
        "    sample = x[random_int][None, ...]\n",
        "  prediction = model.predict(sample)\n",
        "  plt.figure(figsize=(2, 2))\n",
        "  plt.imshow(x[random_int])\n",
        "  print('Predicted label:', np.argmax(prediction))\n",
        "  print('Actual label:', y[random_int][0])"
      ],
      "execution_count": 0,
      "outputs": []
    },
    {
      "cell_type": "code",
      "metadata": {
        "colab_type": "code",
        "id": "36MMTlXT6Ogy",
        "outputId": "e3cabc1b-970c-497b-b676-f815ce92fcd4",
        "colab": {
          "base_uri": "https://localhost:8080/",
          "height": 193
        }
      },
      "source": [
        "# rerun this cell to show random predictions\n",
        "show_random_prediction(X_train, y_train, dense_network)"
      ],
      "execution_count": 21,
      "outputs": [
        {
          "output_type": "stream",
          "text": [
            "Predicted label: 5\n",
            "Actual label: 3\n"
          ],
          "name": "stdout"
        },
        {
          "output_type": "display_data",
          "data": {
            "image/png": "[encoded data removed]",
            "text/plain": [
              "<Figure size 144x144 with 1 Axes>"
            ]
          },
          "metadata": {
            "tags": [],
            "needs_background": "light"
          }
        }
      ]
    },
    {
      "cell_type": "markdown",
      "metadata": {
        "colab_type": "text",
        "id": "QgfpKfyO2RaL"
      },
      "source": [
        "# Convolutions"
      ]
    },
    {
      "cell_type": "code",
      "metadata": {
        "colab_type": "code",
        "id": "3ooQWLWFLcIM",
        "colab": {}
      },
      "source": [
        "# write a fuction that converts RGB images (32, 32, 3) to grayscale (32, 32)\n",
        "# you can just take an average of all channels (easy way)\n",
        "# the more elegant method is to extract weighted average (luminosity method)\n",
        "# the weights are: 0.29 R + 0.58 G + 0.11 B\n",
        "def rgb2gray(img):\n",
        "  R, G, B = img[:, :, 0], img[:, :, 1], img[:, :, 2]\n",
        "  return 0.29 * R + 0.58 * G + 0.11 * B"
      ],
      "execution_count": 0,
      "outputs": []
    },
    {
      "cell_type": "code",
      "metadata": {
        "colab_type": "code",
        "id": "5IMIjelpMSI6",
        "outputId": "ccee900b-b62e-4560-e515-6e32b9f930ca",
        "colab": {
          "base_uri": "https://localhost:8080/",
          "height": 283
        }
      },
      "source": [
        "example_img_gray = rgb2gray(example_img)\n",
        "plt.imshow(example_img_gray, cmap='gray')"
      ],
      "execution_count": 23,
      "outputs": [
        {
          "output_type": "execute_result",
          "data": {
            "text/plain": [
              "<matplotlib.image.AxesImage at 0x7f286b25ff28>"
            ]
          },
          "metadata": {
            "tags": []
          },
          "execution_count": 23
        },
        {
          "output_type": "display_data",
          "data": {
            "image/png": "[encoded data removed]",
            "text/plain": [
              "<Figure size 432x288 with 1 Axes>"
            ]
          },
          "metadata": {
            "tags": [],
            "needs_background": "light"
          }
        }
      ]
    },
    {
      "cell_type": "code",
      "metadata": {
        "colab_type": "code",
        "id": "mO5rzGPhi8ku",
        "colab": {}
      },
      "source": [
        "# we will create convolutional filter using keras.layers.Conv2D class\n",
        "from keras.layers import Conv2D\n",
        "\n",
        "conv_filter = Sequential()\n",
        "##TODO\n",
        "# add one convolutional layer that will be a single filter of kernel size = 3\n",
        "# use 'valid' padding and set the name parameter as 'convolution'\n",
        "# remember to set input_shape (but now it will be 3-dimensional)\n",
        "conv_filter.add(Conv2D(1, (3, 3),name = 'convolution', padding=\"valid\",activation=\"relu\"))"
      ],
      "execution_count": 0,
      "outputs": []
    },
    {
      "cell_type": "code",
      "metadata": {
        "colab_type": "code",
        "id": "mhKq7wUuY385",
        "colab": {}
      },
      "source": [
        "# reshape example_img_gray to include also batch size\n",
        "example_img_gray = example_img_gray.reshape(1, 32, 32, 1)"
      ],
      "execution_count": 0,
      "outputs": []
    },
    {
      "cell_type": "code",
      "metadata": {
        "colab_type": "code",
        "id": "yAc2rq_VSpA-",
        "outputId": "acb6114f-2943-4e05-bfe7-30c7ab192e82",
        "colab": {
          "base_uri": "https://localhost:8080/",
          "height": 283
        }
      },
      "source": [
        "# display how conv_filter changes image\n",
        "result = conv_filter.predict(example_img_gray).reshape(30, 30)\n",
        "plt.imshow(result, cmap='gray')"
      ],
      "execution_count": 26,
      "outputs": [
        {
          "output_type": "execute_result",
          "data": {
            "text/plain": [
              "<matplotlib.image.AxesImage at 0x7f286b251be0>"
            ]
          },
          "metadata": {
            "tags": []
          },
          "execution_count": 26
        },
        {
          "output_type": "display_data",
          "data": {
            "image/png": "[encoded data removed]",
            "text/plain": [
              "<Figure size 432x288 with 1 Axes>"
            ]
          },
          "metadata": {
            "tags": [],
            "needs_background": "light"
          }
        }
      ]
    },
    {
      "cell_type": "code",
      "metadata": {
        "colab_type": "code",
        "id": "54WNMsaacDSm",
        "outputId": "4a7aae57-40f5-4cd4-9cf1-5d28ddc9c93b",
        "colab": {
          "base_uri": "https://localhost:8080/",
          "height": 340
        }
      },
      "source": [
        "# print conv_filter weights\n",
        "conv_filter.get_layer(name='convolution').get_weights()"
      ],
      "execution_count": 27,
      "outputs": [
        {
          "output_type": "execute_result",
          "data": {
            "text/plain": [
              "[array([[[[-0.10581923]],\n",
              " \n",
              "         [[-0.16189757]],\n",
              " \n",
              "         [[-0.1894984 ]]],\n",
              " \n",
              " \n",
              "        [[[ 0.15090215]],\n",
              " \n",
              "         [[ 0.35134876]],\n",
              " \n",
              "         [[ 0.30446547]]],\n",
              " \n",
              " \n",
              "        [[[-0.43142462]],\n",
              " \n",
              "         [[-0.21609533]],\n",
              " \n",
              "         [[ 0.57128847]]]], dtype=float32), array([0.], dtype=float32)]"
            ]
          },
          "metadata": {
            "tags": []
          },
          "execution_count": 27
        }
      ]
    },
    {
      "cell_type": "code",
      "metadata": {
        "colab_type": "code",
        "id": "2JqHX1QLdsy2",
        "colab": {}
      },
      "source": [
        "# let's define custom kernel! \n",
        "# Some of useful kernel patterns are presented here: \n",
        "# https://en.wikipedia.org/wiki/Kernel_(image_processing)\n",
        "# ofc you can define your own values\n",
        "# for the example, I'll use edge detection kernel\n",
        "kernel = np.array([\n",
        "                   [0, 1, 0], \n",
        "                   [1, -4, 1],\n",
        "                   [0, 1, 0]\n",
        "])\n",
        "\n",
        "# as you can see above, extracted parameters from Conv2D layer are a list\n",
        "# The list has two elements:\n",
        "\n",
        "# first one is actual convolutional kernel of shape (k, k, n, m)\n",
        "# where k is a kernel size\n",
        "# n is number of channels in previous layer\n",
        "# m is number of channels in actual layer\n",
        "\n",
        "# the second element of Conv2D parameters list is just a bias parameter\n",
        "# we will set it to 0. for the experiment\n",
        "kernel = [kernel.reshape(3, 3, 1, 1), np.array([0.])]"
      ],
      "execution_count": 0,
      "outputs": []
    },
    {
      "cell_type": "code",
      "metadata": {
        "colab_type": "code",
        "id": "2Y8dxTS2U-f8",
        "colab": {}
      },
      "source": [
        "conv_filter.get_layer(name='convolution').set_weights(kernel)"
      ],
      "execution_count": 0,
      "outputs": []
    },
    {
      "cell_type": "code",
      "metadata": {
        "colab_type": "code",
        "id": "d6Cwn9iDVfYi",
        "outputId": "287d2117-585a-4c69-a8b7-c9a8a4e10f18",
        "colab": {
          "base_uri": "https://localhost:8080/",
          "height": 340
        }
      },
      "source": [
        "conv_filter.get_layer(name='convolution').get_weights()"
      ],
      "execution_count": 30,
      "outputs": [
        {
          "output_type": "execute_result",
          "data": {
            "text/plain": [
              "[array([[[[ 0.]],\n",
              " \n",
              "         [[ 1.]],\n",
              " \n",
              "         [[ 0.]]],\n",
              " \n",
              " \n",
              "        [[[ 1.]],\n",
              " \n",
              "         [[-4.]],\n",
              " \n",
              "         [[ 1.]]],\n",
              " \n",
              " \n",
              "        [[[ 0.]],\n",
              " \n",
              "         [[ 1.]],\n",
              " \n",
              "         [[ 0.]]]], dtype=float32), array([0.], dtype=float32)]"
            ]
          },
          "metadata": {
            "tags": []
          },
          "execution_count": 30
        }
      ]
    },
    {
      "cell_type": "code",
      "metadata": {
        "colab_type": "code",
        "id": "G1M93XkKV3Ks",
        "outputId": "7750dbbb-0cf4-44cd-a370-99347b2a5170",
        "colab": {
          "base_uri": "https://localhost:8080/",
          "height": 283
        }
      },
      "source": [
        "# display image processed by your custom filter\n",
        "result = conv_filter.predict(example_img_gray).reshape(30, 30)\n",
        "plt.imshow(result, cmap='gray')"
      ],
      "execution_count": 31,
      "outputs": [
        {
          "output_type": "execute_result",
          "data": {
            "text/plain": [
              "<matplotlib.image.AxesImage at 0x7f286b1afe80>"
            ]
          },
          "metadata": {
            "tags": []
          },
          "execution_count": 31
        },
        {
          "output_type": "display_data",
          "data": {
            "image/png": "[encoded data removed]",
            "text/plain": [
              "<Figure size 432x288 with 1 Axes>"
            ]
          },
          "metadata": {
            "tags": [],
            "needs_background": "light"
          }
        }
      ]
    },
    {
      "cell_type": "markdown",
      "metadata": {
        "colab_type": "text",
        "id": "mOdlwJxwFm3a"
      },
      "source": [
        "# LeNet\n",
        "![alt text](https://miro.medium.com/max/1700/1*AwJZkWLKabIicUPzSN6KCg.png)"
      ]
    },
    {
      "cell_type": "code",
      "metadata": {
        "colab_type": "code",
        "id": "SdE7r6bcFgAe",
        "colab": {}
      },
      "source": [
        "from keras.layers.pooling import MaxPool2D\n",
        "from keras.layers import Flatten, Conv2D, Dense\n",
        "from keras.models import Sequential\n",
        "# build your LeNet model !\n",
        "\n",
        "LeNet = Sequential()\n",
        "LeNet.add(Conv2D(filters=6, kernel_size=5, activation='relu', input_shape=(32, 32, 3)))\n",
        "LeNet.add(MaxPool2D())\n",
        "LeNet.add(Conv2D(filters=16, kernel_size=5, activation='relu'))\n",
        "LeNet.add(MaxPool2D())\n",
        "LeNet.add(Flatten())\n",
        "LeNet.add(Dense(120, activation='relu'))\n",
        "LeNet.add(Dense(84, activation='relu'))\n",
        "LeNet.add(Dense(10, activation='softmax'))"
      ],
      "execution_count": 0,
      "outputs": []
    },
    {
      "cell_type": "code",
      "metadata": {
        "id": "QsWRVkWnl9Ff",
        "colab_type": "code",
        "colab": {}
      },
      "source": [
        "example = X_train[0].reshape(1, 32, 32, 3)"
      ],
      "execution_count": 0,
      "outputs": []
    },
    {
      "cell_type": "code",
      "metadata": {
        "id": "PAA4tdV3l3tg",
        "colab_type": "code",
        "colab": {}
      },
      "source": [
        "result = LeNet.predict(example)"
      ],
      "execution_count": 0,
      "outputs": []
    },
    {
      "cell_type": "code",
      "metadata": {
        "id": "dkABkca8tBr-",
        "colab_type": "code",
        "outputId": "9dc30336-46e7-4afb-bca5-19f9fd4a46b0",
        "colab": {
          "base_uri": "https://localhost:8080/",
          "height": 68
        }
      },
      "source": [
        "result"
      ],
      "execution_count": 35,
      "outputs": [
        {
          "output_type": "execute_result",
          "data": {
            "text/plain": [
              "array([[1.5343319e-01, 2.4853252e-29, 0.0000000e+00, 0.0000000e+00,\n",
              "        1.8702112e-23, 0.0000000e+00, 0.0000000e+00, 0.0000000e+00,\n",
              "        8.4656686e-01, 6.6153193e-37]], dtype=float32)"
            ]
          },
          "metadata": {
            "tags": []
          },
          "execution_count": 35
        }
      ]
    },
    {
      "cell_type": "code",
      "metadata": {
        "id": "MXL4QEdFmcry",
        "colab_type": "code",
        "outputId": "027d4498-13f1-4485-c51e-437e0c08c746",
        "colab": {
          "base_uri": "https://localhost:8080/",
          "height": 102
        }
      },
      "source": [
        "plt.imshow(result, cmap='gray')"
      ],
      "execution_count": 36,
      "outputs": [
        {
          "output_type": "execute_result",
          "data": {
            "text/plain": [
              "<matplotlib.image.AxesImage at 0x7f286b149dd8>"
            ]
          },
          "metadata": {
            "tags": []
          },
          "execution_count": 36
        },
        {
          "output_type": "display_data",
          "data": {
            "image/png": "[encoded data removed]",
            "text/plain": [
              "<Figure size 432x288 with 1 Axes>"
            ]
          },
          "metadata": {
            "tags": [],
            "needs_background": "light"
          }
        }
      ]
    },
    {
      "cell_type": "code",
      "metadata": {
        "id": "r76epuqsskZc",
        "colab_type": "code",
        "outputId": "1871363e-3748-4847-c5e9-9b8e22a774a0",
        "colab": {
          "base_uri": "https://localhost:8080/",
          "height": 283
        }
      },
      "source": [
        "plt.imshow(example[0, :, :, :])"
      ],
      "execution_count": 37,
      "outputs": [
        {
          "output_type": "execute_result",
          "data": {
            "text/plain": [
              "<matplotlib.image.AxesImage at 0x7f286b117e10>"
            ]
          },
          "metadata": {
            "tags": []
          },
          "execution_count": 37
        },
        {
          "output_type": "display_data",
          "data": {
            "image/png": "[encoded data removed]",
            "text/plain": [
              "<Figure size 432x288 with 1 Axes>"
            ]
          },
          "metadata": {
            "tags": [],
            "needs_background": "light"
          }
        }
      ]
    },
    {
      "cell_type": "code",
      "metadata": {
        "colab_type": "code",
        "id": "qQW9H0wUKQMy",
        "outputId": "a473044f-5d2b-4a03-e6a0-447755a142bb",
        "colab": {
          "base_uri": "https://localhost:8080/",
          "height": 425
        }
      },
      "source": [
        "# print summary of your ConvNet\n",
        "LeNet.summary()"
      ],
      "execution_count": 38,
      "outputs": [
        {
          "output_type": "stream",
          "text": [
            "Model: \"sequential_6\"\n",
            "_________________________________________________________________\n",
            "Layer (type)                 Output Shape              Param #   \n",
            "=================================================================\n",
            "conv2d_7 (Conv2D)            (None, 28, 28, 6)         456       \n",
            "_________________________________________________________________\n",
            "max_pooling2d_7 (MaxPooling2 (None, 14, 14, 6)         0         \n",
            "_________________________________________________________________\n",
            "conv2d_8 (Conv2D)            (None, 10, 10, 16)        2416      \n",
            "_________________________________________________________________\n",
            "max_pooling2d_8 (MaxPooling2 (None, 5, 5, 16)          0         \n",
            "_________________________________________________________________\n",
            "flatten_4 (Flatten)          (None, 400)               0         \n",
            "_________________________________________________________________\n",
            "dense_12 (Dense)             (None, 120)               48120     \n",
            "_________________________________________________________________\n",
            "dense_13 (Dense)             (None, 84)                10164     \n",
            "_________________________________________________________________\n",
            "dense_14 (Dense)             (None, 10)                850       \n",
            "=================================================================\n",
            "Total params: 62,006\n",
            "Trainable params: 62,006\n",
            "Non-trainable params: 0\n",
            "_________________________________________________________________\n"
          ],
          "name": "stdout"
        }
      ]
    },
    {
      "cell_type": "code",
      "metadata": {
        "colab_type": "code",
        "id": "7wacO2HaMOED",
        "colab": {}
      },
      "source": [
        "from keras.optimizers import Adam\n",
        "# compile your model, using:\n",
        "# 1. Categorical crossentropy loss\n",
        "# 2. Accuracy metric\n",
        "# 3. Any optimizer you want (in most cases Adam provides good performance)\n",
        "LeNet.compile(loss='categorical_crossentropy', optimizer=Adam(), metrics=['accuracy'])"
      ],
      "execution_count": 0,
      "outputs": []
    },
    {
      "cell_type": "code",
      "metadata": {
        "colab_type": "code",
        "id": "xlqIafvPOIIv",
        "colab": {}
      },
      "source": [
        "# now use X_train as feature data (since it is not flattened)\n",
        "# do not flatten, keep 4 dimensions (#examples, width, height, #channels)\n",
        "# the only thing to do is to reduce the value range from (0; 255) to (0; 1)\n",
        "# last time we did the normalization for 'X_train_flat', not 'X_train'\n",
        "X_train = X_train / 255."
      ],
      "execution_count": 0,
      "outputs": []
    },
    {
      "cell_type": "code",
      "metadata": {
        "colab_type": "code",
        "id": "fHKOy2__Ojb_",
        "colab": {}
      },
      "source": [
        "# if you still have 'y' variable saved as one hot encoded labels, keep going\n",
        "# otherwise just run this cell\n",
        "y = keras.utils.to_categorical(y_train)"
      ],
      "execution_count": 0,
      "outputs": []
    },
    {
      "cell_type": "code",
      "metadata": {
        "colab_type": "code",
        "id": "jHCaG2bSN3eX",
        "outputId": "72d9b99a-342c-4c6f-aae5-cfc201be6f81",
        "colab": {
          "base_uri": "https://localhost:8080/",
          "height": 731
        }
      },
      "source": [
        "# now train your LeNet with the X_train and y\n",
        "# leave the rest of parameters the same (as for Dense), so you can compare\n",
        "# which network learns better\n",
        "LeNet.fit(x=X_train, y=y, batch_size=32, validation_split=0.2, epochs=20)"
      ],
      "execution_count": 42,
      "outputs": [
        {
          "output_type": "stream",
          "text": [
            "Train on 40000 samples, validate on 10000 samples\n",
            "Epoch 1/20\n",
            "40000/40000 [==============================] - 11s 267us/step - loss: 1.6673 - accuracy: 0.3898 - val_loss: 1.5112 - val_accuracy: 0.4495\n",
            "Epoch 2/20\n",
            "40000/40000 [==============================] - 11s 273us/step - loss: 1.3865 - accuracy: 0.4968 - val_loss: 1.3465 - val_accuracy: 0.5165\n",
            "Epoch 3/20\n",
            "40000/40000 [==============================] - 11s 263us/step - loss: 1.2598 - accuracy: 0.5490 - val_loss: 1.2554 - val_accuracy: 0.5558\n",
            "Epoch 4/20\n",
            "40000/40000 [==============================] - 10s 256us/step - loss: 1.1737 - accuracy: 0.5840 - val_loss: 1.2015 - val_accuracy: 0.5783\n",
            "Epoch 5/20\n",
            "40000/40000 [==============================] - 10s 258us/step - loss: 1.1095 - accuracy: 0.6064 - val_loss: 1.2227 - val_accuracy: 0.5691\n",
            "Epoch 6/20\n",
            "40000/40000 [==============================] - 10s 258us/step - loss: 1.0528 - accuracy: 0.6274 - val_loss: 1.1833 - val_accuracy: 0.5795\n",
            "Epoch 7/20\n",
            "40000/40000 [==============================] - 10s 257us/step - loss: 0.9947 - accuracy: 0.6486 - val_loss: 1.1541 - val_accuracy: 0.5961\n",
            "Epoch 8/20\n",
            "40000/40000 [==============================] - 10s 258us/step - loss: 0.9511 - accuracy: 0.6633 - val_loss: 1.1188 - val_accuracy: 0.6133\n",
            "Epoch 9/20\n",
            "40000/40000 [==============================] - 10s 261us/step - loss: 0.9114 - accuracy: 0.6781 - val_loss: 1.1664 - val_accuracy: 0.5964\n",
            "Epoch 10/20\n",
            "40000/40000 [==============================] - 10s 258us/step - loss: 0.8740 - accuracy: 0.6891 - val_loss: 1.1574 - val_accuracy: 0.6071\n",
            "Epoch 11/20\n",
            "40000/40000 [==============================] - 10s 258us/step - loss: 0.8417 - accuracy: 0.7016 - val_loss: 1.1518 - val_accuracy: 0.6061\n",
            "Epoch 12/20\n",
            "40000/40000 [==============================] - 10s 256us/step - loss: 0.8057 - accuracy: 0.7135 - val_loss: 1.1537 - val_accuracy: 0.6117\n",
            "Epoch 13/20\n",
            "40000/40000 [==============================] - 10s 255us/step - loss: 0.7798 - accuracy: 0.7235 - val_loss: 1.1619 - val_accuracy: 0.6103\n",
            "Epoch 14/20\n",
            "40000/40000 [==============================] - 10s 254us/step - loss: 0.7449 - accuracy: 0.7348 - val_loss: 1.2124 - val_accuracy: 0.5975\n",
            "Epoch 15/20\n",
            "40000/40000 [==============================] - 10s 256us/step - loss: 0.7098 - accuracy: 0.7459 - val_loss: 1.2621 - val_accuracy: 0.6010\n",
            "Epoch 16/20\n",
            "40000/40000 [==============================] - 10s 255us/step - loss: 0.6842 - accuracy: 0.7566 - val_loss: 1.2269 - val_accuracy: 0.6029\n",
            "Epoch 17/20\n",
            "40000/40000 [==============================] - 10s 255us/step - loss: 0.6608 - accuracy: 0.7655 - val_loss: 1.3004 - val_accuracy: 0.6031\n",
            "Epoch 18/20\n",
            "40000/40000 [==============================] - 10s 258us/step - loss: 0.6340 - accuracy: 0.7753 - val_loss: 1.3031 - val_accuracy: 0.6024\n",
            "Epoch 19/20\n",
            "40000/40000 [==============================] - 10s 255us/step - loss: 0.6210 - accuracy: 0.7782 - val_loss: 1.3447 - val_accuracy: 0.5907\n",
            "Epoch 20/20\n",
            "40000/40000 [==============================] - 10s 257us/step - loss: 0.5877 - accuracy: 0.7896 - val_loss: 1.3733 - val_accuracy: 0.5984\n"
          ],
          "name": "stdout"
        },
        {
          "output_type": "execute_result",
          "data": {
            "text/plain": [
              "<keras.callbacks.callbacks.History at 0x7f286b0d42b0>"
            ]
          },
          "metadata": {
            "tags": []
          },
          "execution_count": 42
        }
      ]
    },
    {
      "cell_type": "code",
      "metadata": {
        "colab_type": "code",
        "id": "NMWBDpyTSr2i",
        "colab": {
          "base_uri": "https://localhost:8080/",
          "height": 193
        },
        "outputId": "42b548f6-4866-41be-b95d-9970c2cbcc6b"
      },
      "source": [
        "# rerun this cell to show random predictions\n",
        "show_random_prediction(X_train, y_train, LeNet)"
      ],
      "execution_count": 43,
      "outputs": [
        {
          "output_type": "stream",
          "text": [
            "Predicted label: 7\n",
            "Actual label: 7\n"
          ],
          "name": "stdout"
        },
        {
          "output_type": "display_data",
          "data": {
            "image/png": "[encoded data removed]",
            "text/plain": [
              "<Figure size 144x144 with 1 Axes>"
            ]
          },
          "metadata": {
            "tags": [],
            "needs_background": "light"
          }
        }
      ]
    },
    {
      "cell_type": "markdown",
      "metadata": {
        "colab_type": "text",
        "id": "2LZko2G3UzvP"
      },
      "source": [
        "# Inception\n",
        "![alt text](https://miro.medium.com/max/1920/1*gqKM5V-uo2sMFFPDS84yJw.png)"
      ]
    },
    {
      "cell_type": "code",
      "metadata": {
        "colab_type": "code",
        "id": "lOU-qO6CS4v_",
        "colab": {}
      },
      "source": [
        "from keras.applications.inception_v3 import InceptionV3\n",
        "from matplotlib.image import imread\n",
        "from cv2 import resize, flip"
      ],
      "execution_count": 0,
      "outputs": []
    },
    {
      "cell_type": "markdown",
      "metadata": {
        "colab_type": "text",
        "id": "zoWs5adLddRh"
      },
      "source": [
        "# Data preparation"
      ]
    },
    {
      "cell_type": "markdown",
      "metadata": {
        "colab_type": "text",
        "id": "-TSJkKvreAHd"
      },
      "source": [
        "For higher-resolution images example I've prepared dataset from Kaggle: https://www.kaggle.com/slothkong/10-monkey-species.\n",
        "The dataset contains ~1.5k images of 10 monkey species. Code below preprocess this images to feed and fine-tune Inception for monkey classification task.\n",
        "\n",
        "Ofc you can use your own idea for fine-tuning task. Feel free to improvise, otherwise you can play with the code below."
      ]
    },
    {
      "cell_type": "code",
      "metadata": {
        "colab_type": "code",
        "id": "j26qg9pRpC0O",
        "outputId": "e5ce948a-c574-4b6f-b791-a26ba0295b4d",
        "colab": {
          "base_uri": "https://localhost:8080/",
          "height": 153
        }
      },
      "source": [
        "! git clone https://github.com/Drpulti/monkey_images.git"
      ],
      "execution_count": 45,
      "outputs": [
        {
          "output_type": "stream",
          "text": [
            "Cloning into 'monkey_images'...\n",
            "remote: Enumerating objects: 5, done.\u001b[K\n",
            "remote: Counting objects: 100% (5/5), done.\u001b[K\n",
            "remote: Compressing objects: 100% (5/5), done.\u001b[K\n",
            "remote: Total 1304 (delta 0), reused 2 (delta 0), pack-reused 1299\u001b[K\n",
            "Receiving objects: 100% (1304/1304), 500.01 MiB | 35.21 MiB/s, done.\n",
            "Resolving deltas: 100% (2/2), done.\n",
            "Checking out files: 100% (1373/1373), done.\n"
          ],
          "name": "stdout"
        }
      ]
    },
    {
      "cell_type": "code",
      "metadata": {
        "colab_type": "code",
        "id": "2YDwN-wdZJLd",
        "colab": {}
      },
      "source": [
        "import pandas as pd\n",
        "monkey_labels = pd.read_csv('monkey_images/monkey_labels.txt')"
      ],
      "execution_count": 0,
      "outputs": []
    },
    {
      "cell_type": "code",
      "metadata": {
        "colab_type": "code",
        "id": "wW0xWHd7LGJt",
        "colab": {}
      },
      "source": [
        "# this DataFrame needs some preprocessing because it's messy\n",
        "monkey_labels.iloc[:, 0] = monkey_labels.iloc[:, 0].apply(lambda x: x.split()[0])\n",
        "monkey_labels.iloc[:, 2] = monkey_labels.iloc[:, 2].apply(lambda x: x.split()[0])"
      ],
      "execution_count": 0,
      "outputs": []
    },
    {
      "cell_type": "code",
      "metadata": {
        "colab_type": "code",
        "id": "ipCWvm9FKuJ8",
        "colab": {}
      },
      "source": [
        "labels_dict = dict(zip(monkey_labels.iloc[:, 0], monkey_labels.iloc[:, 2]))\n",
        "labels_ids = dict(zip(monkey_labels.iloc[:, 0], range(len(monkey_labels))))"
      ],
      "execution_count": 0,
      "outputs": []
    },
    {
      "cell_type": "code",
      "metadata": {
        "colab_type": "code",
        "id": "u3RxNHjPekuQ",
        "colab": {}
      },
      "source": [
        "def crop_and_resize(img, width, height):\n",
        "  w, h, c = img.shape\n",
        "  if w-h == 0:\n",
        "    return resize(img, (width, height))\n",
        "  if w > h:\n",
        "    diff = w-h\n",
        "    img = img[diff//2:-diff//2, :, :]\n",
        "  else:\n",
        "    diff = h-w\n",
        "    img = img[:, diff//2:-diff//2, :]\n",
        "  return resize(img, (width, height))"
      ],
      "execution_count": 0,
      "outputs": []
    },
    {
      "cell_type": "code",
      "metadata": {
        "colab_type": "code",
        "id": "eAkqc0yxdaEN",
        "outputId": "b7c9278e-a716-48da-f6ec-30f147556540",
        "colab": {
          "base_uri": "https://localhost:8080/",
          "height": 187
        }
      },
      "source": [
        "# target image resolution would be (299, 299). It's the inception's input size\n",
        "width = 299\n",
        "height = 299\n",
        "train_path = 'monkey_images/training/training/'\n",
        "\n",
        "# placeholders for image data and labels\n",
        "images = []\n",
        "labels = []\n",
        "\n",
        "for directory in os.listdir(train_path):\n",
        "  print(directory)\n",
        "  for img in os.listdir(train_path + directory):\n",
        "    img = imread(train_path + directory + '/' + img)\n",
        "    img = crop_and_resize(img, width, height)\n",
        "    images.append(img)\n",
        "    labels.append(labels_ids[directory])\n",
        "\n",
        "    # add also mirrored version of training image, to increase image pool size\n",
        "    images.append(flip(img, 1))\n",
        "    labels.append(labels_ids[directory])"
      ],
      "execution_count": 50,
      "outputs": [
        {
          "output_type": "stream",
          "text": [
            "n0\n",
            "n2\n",
            "n1\n",
            "n3\n",
            "n8\n",
            "n9\n",
            "n6\n",
            "n5\n",
            "n4\n",
            "n7\n"
          ],
          "name": "stdout"
        }
      ]
    },
    {
      "cell_type": "code",
      "metadata": {
        "colab_type": "code",
        "id": "kJyBBspmTbQI",
        "outputId": "4b6c0217-5eaf-4709-ceb5-0bedee753a6f",
        "colab": {
          "base_uri": "https://localhost:8080/",
          "height": 187
        }
      },
      "source": [
        "# load validation images, this time we won't augment the data\n",
        "# it would corrupt the results\n",
        "validation_path = 'monkey_images/validation/validation/'\n",
        "val_images = []\n",
        "val_labels = []\n",
        "\n",
        "for directory in os.listdir(validation_path):\n",
        "  print(directory)\n",
        "  for img in os.listdir(validation_path + directory):\n",
        "    img = imread(validation_path + directory + '/' + img)\n",
        "    img = crop_and_resize(img, width, height)\n",
        "    val_images.append(img)\n",
        "    val_labels.append(labels_ids[directory])"
      ],
      "execution_count": 51,
      "outputs": [
        {
          "output_type": "stream",
          "text": [
            "n0\n",
            "n2\n",
            "n1\n",
            "n3\n",
            "n8\n",
            "n9\n",
            "n6\n",
            "n5\n",
            "n4\n",
            "n7\n"
          ],
          "name": "stdout"
        }
      ]
    },
    {
      "cell_type": "code",
      "metadata": {
        "colab_type": "code",
        "id": "fiSZFKayehkh",
        "colab": {}
      },
      "source": [
        "images = np.array(images)\n",
        "labels = np.array(labels).reshape(-1, 1)\n",
        "\n",
        "val_images = np.array(val_images)\n",
        "val_labels = np.array(val_labels).reshape(-1, 1)"
      ],
      "execution_count": 0,
      "outputs": []
    },
    {
      "cell_type": "code",
      "metadata": {
        "colab_type": "code",
        "id": "t0lJatrkNztv",
        "colab": {}
      },
      "source": [
        "images = images / 255.\n",
        "labels = to_categorical(labels)\n",
        "\n",
        "val_images = val_images / 255.\n",
        "val_labels = to_categorical(val_labels)"
      ],
      "execution_count": 0,
      "outputs": []
    },
    {
      "cell_type": "code",
      "metadata": {
        "colab_type": "code",
        "id": "Vc_5W29NPuon",
        "colab": {}
      },
      "source": [
        "from sklearn.utils import shuffle\n",
        "images, labels = shuffle(images, labels)"
      ],
      "execution_count": 0,
      "outputs": []
    },
    {
      "cell_type": "markdown",
      "metadata": {
        "colab_type": "text",
        "id": "d6ZZBErhQDjM"
      },
      "source": [
        "# Inception fine-tuning"
      ]
    },
    {
      "cell_type": "code",
      "metadata": {
        "colab_type": "code",
        "id": "pCVAKLFFP_1J",
        "colab": {
          "base_uri": "https://localhost:8080/",
          "height": 51
        },
        "outputId": "893cd310-d561-48a5-fee8-f31ad08c3f6c"
      },
      "source": [
        "inception = InceptionV3(include_top=False, \n",
        "                        weights='imagenet', \n",
        "                        input_shape=(299, 299, 3))\n",
        "\n",
        "# freeze most of the Inception layers, leave only the last ones as 'Trainable'\n",
        "for layer in inception.layers[:-5]:\n",
        "  layer.trainable = False"
      ],
      "execution_count": 55,
      "outputs": [
        {
          "output_type": "stream",
          "text": [
            "Downloading data from https://github.com/fchollet/deep-learning-models/releases/download/v0.5/inception_v3_weights_tf_dim_ordering_tf_kernels_notop.h5\n",
            "87916544/87910968 [==============================] - 1s 0us/step\n"
          ],
          "name": "stdout"
        }
      ]
    },
    {
      "cell_type": "code",
      "metadata": {
        "colab_type": "code",
        "id": "HyKab2K0QWN1",
        "colab": {
          "base_uri": "https://localhost:8080/",
          "height": 1000
        },
        "outputId": "cd967549-d537-4b13-ce61-70af1e5ac6e9"
      },
      "source": [
        "# uncomment if you want to print Inception layers\n",
        "inception.summary()"
      ],
      "execution_count": 57,
      "outputs": [
        {
          "output_type": "stream",
          "text": [
            "Model: \"inception_v3\"\n",
            "__________________________________________________________________________________________________\n",
            "Layer (type)                    Output Shape         Param #     Connected to                     \n",
            "==================================================================================================\n",
            "input_1 (InputLayer)            (None, 299, 299, 3)  0                                            \n",
            "__________________________________________________________________________________________________\n",
            "conv2d_9 (Conv2D)               (None, 149, 149, 32) 864         input_1[0][0]                    \n",
            "__________________________________________________________________________________________________\n",
            "batch_normalization_1 (BatchNor (None, 149, 149, 32) 96          conv2d_9[0][0]                   \n",
            "__________________________________________________________________________________________________\n",
            "activation_1 (Activation)       (None, 149, 149, 32) 0           batch_normalization_1[0][0]      \n",
            "__________________________________________________________________________________________________\n",
            "conv2d_10 (Conv2D)              (None, 147, 147, 32) 9216        activation_1[0][0]               \n",
            "__________________________________________________________________________________________________\n",
            "batch_normalization_2 (BatchNor (None, 147, 147, 32) 96          conv2d_10[0][0]                  \n",
            "__________________________________________________________________________________________________\n",
            "activation_2 (Activation)       (None, 147, 147, 32) 0           batch_normalization_2[0][0]      \n",
            "__________________________________________________________________________________________________\n",
            "conv2d_11 (Conv2D)              (None, 147, 147, 64) 18432       activation_2[0][0]               \n",
            "__________________________________________________________________________________________________\n",
            "batch_normalization_3 (BatchNor (None, 147, 147, 64) 192         conv2d_11[0][0]                  \n",
            "__________________________________________________________________________________________________\n",
            "activation_3 (Activation)       (None, 147, 147, 64) 0           batch_normalization_3[0][0]      \n",
            "__________________________________________________________________________________________________\n",
            "max_pooling2d_9 (MaxPooling2D)  (None, 73, 73, 64)   0           activation_3[0][0]               \n",
            "__________________________________________________________________________________________________\n",
            "conv2d_12 (Conv2D)              (None, 73, 73, 80)   5120        max_pooling2d_9[0][0]            \n",
            "__________________________________________________________________________________________________\n",
            "batch_normalization_4 (BatchNor (None, 73, 73, 80)   240         conv2d_12[0][0]                  \n",
            "__________________________________________________________________________________________________\n",
            "activation_4 (Activation)       (None, 73, 73, 80)   0           batch_normalization_4[0][0]      \n",
            "__________________________________________________________________________________________________\n",
            "conv2d_13 (Conv2D)              (None, 71, 71, 192)  138240      activation_4[0][0]               \n",
            "__________________________________________________________________________________________________\n",
            "batch_normalization_5 (BatchNor (None, 71, 71, 192)  576         conv2d_13[0][0]                  \n",
            "__________________________________________________________________________________________________\n",
            "activation_5 (Activation)       (None, 71, 71, 192)  0           batch_normalization_5[0][0]      \n",
            "__________________________________________________________________________________________________\n",
            "max_pooling2d_10 (MaxPooling2D) (None, 35, 35, 192)  0           activation_5[0][0]               \n",
            "__________________________________________________________________________________________________\n",
            "conv2d_17 (Conv2D)              (None, 35, 35, 64)   12288       max_pooling2d_10[0][0]           \n",
            "__________________________________________________________________________________________________\n",
            "batch_normalization_9 (BatchNor (None, 35, 35, 64)   192         conv2d_17[0][0]                  \n",
            "__________________________________________________________________________________________________\n",
            "activation_9 (Activation)       (None, 35, 35, 64)   0           batch_normalization_9[0][0]      \n",
            "__________________________________________________________________________________________________\n",
            "conv2d_15 (Conv2D)              (None, 35, 35, 48)   9216        max_pooling2d_10[0][0]           \n",
            "__________________________________________________________________________________________________\n",
            "conv2d_18 (Conv2D)              (None, 35, 35, 96)   55296       activation_9[0][0]               \n",
            "__________________________________________________________________________________________________\n",
            "batch_normalization_7 (BatchNor (None, 35, 35, 48)   144         conv2d_15[0][0]                  \n",
            "__________________________________________________________________________________________________\n",
            "batch_normalization_10 (BatchNo (None, 35, 35, 96)   288         conv2d_18[0][0]                  \n",
            "__________________________________________________________________________________________________\n",
            "activation_7 (Activation)       (None, 35, 35, 48)   0           batch_normalization_7[0][0]      \n",
            "__________________________________________________________________________________________________\n",
            "activation_10 (Activation)      (None, 35, 35, 96)   0           batch_normalization_10[0][0]     \n",
            "__________________________________________________________________________________________________\n",
            "average_pooling2d_1 (AveragePoo (None, 35, 35, 192)  0           max_pooling2d_10[0][0]           \n",
            "__________________________________________________________________________________________________\n",
            "conv2d_14 (Conv2D)              (None, 35, 35, 64)   12288       max_pooling2d_10[0][0]           \n",
            "__________________________________________________________________________________________________\n",
            "conv2d_16 (Conv2D)              (None, 35, 35, 64)   76800       activation_7[0][0]               \n",
            "__________________________________________________________________________________________________\n",
            "conv2d_19 (Conv2D)              (None, 35, 35, 96)   82944       activation_10[0][0]              \n",
            "__________________________________________________________________________________________________\n",
            "conv2d_20 (Conv2D)              (None, 35, 35, 32)   6144        average_pooling2d_1[0][0]        \n",
            "__________________________________________________________________________________________________\n",
            "batch_normalization_6 (BatchNor (None, 35, 35, 64)   192         conv2d_14[0][0]                  \n",
            "__________________________________________________________________________________________________\n",
            "batch_normalization_8 (BatchNor (None, 35, 35, 64)   192         conv2d_16[0][0]                  \n",
            "__________________________________________________________________________________________________\n",
            "batch_normalization_11 (BatchNo (None, 35, 35, 96)   288         conv2d_19[0][0]                  \n",
            "__________________________________________________________________________________________________\n",
            "batch_normalization_12 (BatchNo (None, 35, 35, 32)   96          conv2d_20[0][0]                  \n",
            "__________________________________________________________________________________________________\n",
            "activation_6 (Activation)       (None, 35, 35, 64)   0           batch_normalization_6[0][0]      \n",
            "__________________________________________________________________________________________________\n",
            "activation_8 (Activation)       (None, 35, 35, 64)   0           batch_normalization_8[0][0]      \n",
            "__________________________________________________________________________________________________\n",
            "activation_11 (Activation)      (None, 35, 35, 96)   0           batch_normalization_11[0][0]     \n",
            "__________________________________________________________________________________________________\n",
            "activation_12 (Activation)      (None, 35, 35, 32)   0           batch_normalization_12[0][0]     \n",
            "__________________________________________________________________________________________________\n",
            "mixed0 (Concatenate)            (None, 35, 35, 256)  0           activation_6[0][0]               \n",
            "                                                                 activation_8[0][0]               \n",
            "                                                                 activation_11[0][0]              \n",
            "                                                                 activation_12[0][0]              \n",
            "__________________________________________________________________________________________________\n",
            "conv2d_24 (Conv2D)              (None, 35, 35, 64)   16384       mixed0[0][0]                     \n",
            "__________________________________________________________________________________________________\n",
            "batch_normalization_16 (BatchNo (None, 35, 35, 64)   192         conv2d_24[0][0]                  \n",
            "__________________________________________________________________________________________________\n",
            "activation_16 (Activation)      (None, 35, 35, 64)   0           batch_normalization_16[0][0]     \n",
            "__________________________________________________________________________________________________\n",
            "conv2d_22 (Conv2D)              (None, 35, 35, 48)   12288       mixed0[0][0]                     \n",
            "__________________________________________________________________________________________________\n",
            "conv2d_25 (Conv2D)              (None, 35, 35, 96)   55296       activation_16[0][0]              \n",
            "__________________________________________________________________________________________________\n",
            "batch_normalization_14 (BatchNo (None, 35, 35, 48)   144         conv2d_22[0][0]                  \n",
            "__________________________________________________________________________________________________\n",
            "batch_normalization_17 (BatchNo (None, 35, 35, 96)   288         conv2d_25[0][0]                  \n",
            "__________________________________________________________________________________________________\n",
            "activation_14 (Activation)      (None, 35, 35, 48)   0           batch_normalization_14[0][0]     \n",
            "__________________________________________________________________________________________________\n",
            "activation_17 (Activation)      (None, 35, 35, 96)   0           batch_normalization_17[0][0]     \n",
            "__________________________________________________________________________________________________\n",
            "average_pooling2d_2 (AveragePoo (None, 35, 35, 256)  0           mixed0[0][0]                     \n",
            "__________________________________________________________________________________________________\n",
            "conv2d_21 (Conv2D)              (None, 35, 35, 64)   16384       mixed0[0][0]                     \n",
            "__________________________________________________________________________________________________\n",
            "conv2d_23 (Conv2D)              (None, 35, 35, 64)   76800       activation_14[0][0]              \n",
            "__________________________________________________________________________________________________\n",
            "conv2d_26 (Conv2D)              (None, 35, 35, 96)   82944       activation_17[0][0]              \n",
            "__________________________________________________________________________________________________\n",
            "conv2d_27 (Conv2D)              (None, 35, 35, 64)   16384       average_pooling2d_2[0][0]        \n",
            "__________________________________________________________________________________________________\n",
            "batch_normalization_13 (BatchNo (None, 35, 35, 64)   192         conv2d_21[0][0]                  \n",
            "__________________________________________________________________________________________________\n",
            "batch_normalization_15 (BatchNo (None, 35, 35, 64)   192         conv2d_23[0][0]                  \n",
            "__________________________________________________________________________________________________\n",
            "batch_normalization_18 (BatchNo (None, 35, 35, 96)   288         conv2d_26[0][0]                  \n",
            "__________________________________________________________________________________________________\n",
            "batch_normalization_19 (BatchNo (None, 35, 35, 64)   192         conv2d_27[0][0]                  \n",
            "__________________________________________________________________________________________________\n",
            "activation_13 (Activation)      (None, 35, 35, 64)   0           batch_normalization_13[0][0]     \n",
            "__________________________________________________________________________________________________\n",
            "activation_15 (Activation)      (None, 35, 35, 64)   0           batch_normalization_15[0][0]     \n",
            "__________________________________________________________________________________________________\n",
            "activation_18 (Activation)      (None, 35, 35, 96)   0           batch_normalization_18[0][0]     \n",
            "__________________________________________________________________________________________________\n",
            "activation_19 (Activation)      (None, 35, 35, 64)   0           batch_normalization_19[0][0]     \n",
            "__________________________________________________________________________________________________\n",
            "mixed1 (Concatenate)            (None, 35, 35, 288)  0           activation_13[0][0]              \n",
            "                                                                 activation_15[0][0]              \n",
            "                                                                 activation_18[0][0]              \n",
            "                                                                 activation_19[0][0]              \n",
            "__________________________________________________________________________________________________\n",
            "conv2d_31 (Conv2D)              (None, 35, 35, 64)   18432       mixed1[0][0]                     \n",
            "__________________________________________________________________________________________________\n",
            "batch_normalization_23 (BatchNo (None, 35, 35, 64)   192         conv2d_31[0][0]                  \n",
            "__________________________________________________________________________________________________\n",
            "activation_23 (Activation)      (None, 35, 35, 64)   0           batch_normalization_23[0][0]     \n",
            "__________________________________________________________________________________________________\n",
            "conv2d_29 (Conv2D)              (None, 35, 35, 48)   13824       mixed1[0][0]                     \n",
            "__________________________________________________________________________________________________\n",
            "conv2d_32 (Conv2D)              (None, 35, 35, 96)   55296       activation_23[0][0]              \n",
            "__________________________________________________________________________________________________\n",
            "batch_normalization_21 (BatchNo (None, 35, 35, 48)   144         conv2d_29[0][0]                  \n",
            "__________________________________________________________________________________________________\n",
            "batch_normalization_24 (BatchNo (None, 35, 35, 96)   288         conv2d_32[0][0]                  \n",
            "__________________________________________________________________________________________________\n",
            "activation_21 (Activation)      (None, 35, 35, 48)   0           batch_normalization_21[0][0]     \n",
            "__________________________________________________________________________________________________\n",
            "activation_24 (Activation)      (None, 35, 35, 96)   0           batch_normalization_24[0][0]     \n",
            "__________________________________________________________________________________________________\n",
            "average_pooling2d_3 (AveragePoo (None, 35, 35, 288)  0           mixed1[0][0]                     \n",
            "__________________________________________________________________________________________________\n",
            "conv2d_28 (Conv2D)              (None, 35, 35, 64)   18432       mixed1[0][0]                     \n",
            "__________________________________________________________________________________________________\n",
            "conv2d_30 (Conv2D)              (None, 35, 35, 64)   76800       activation_21[0][0]              \n",
            "__________________________________________________________________________________________________\n",
            "conv2d_33 (Conv2D)              (None, 35, 35, 96)   82944       activation_24[0][0]              \n",
            "__________________________________________________________________________________________________\n",
            "conv2d_34 (Conv2D)              (None, 35, 35, 64)   18432       average_pooling2d_3[0][0]        \n",
            "__________________________________________________________________________________________________\n",
            "batch_normalization_20 (BatchNo (None, 35, 35, 64)   192         conv2d_28[0][0]                  \n",
            "__________________________________________________________________________________________________\n",
            "batch_normalization_22 (BatchNo (None, 35, 35, 64)   192         conv2d_30[0][0]                  \n",
            "__________________________________________________________________________________________________\n",
            "batch_normalization_25 (BatchNo (None, 35, 35, 96)   288         conv2d_33[0][0]                  \n",
            "__________________________________________________________________________________________________\n",
            "batch_normalization_26 (BatchNo (None, 35, 35, 64)   192         conv2d_34[0][0]                  \n",
            "__________________________________________________________________________________________________\n",
            "activation_20 (Activation)      (None, 35, 35, 64)   0           batch_normalization_20[0][0]     \n",
            "__________________________________________________________________________________________________\n",
            "activation_22 (Activation)      (None, 35, 35, 64)   0           batch_normalization_22[0][0]     \n",
            "__________________________________________________________________________________________________\n",
            "activation_25 (Activation)      (None, 35, 35, 96)   0           batch_normalization_25[0][0]     \n",
            "__________________________________________________________________________________________________\n",
            "activation_26 (Activation)      (None, 35, 35, 64)   0           batch_normalization_26[0][0]     \n",
            "__________________________________________________________________________________________________\n",
            "mixed2 (Concatenate)            (None, 35, 35, 288)  0           activation_20[0][0]              \n",
            "                                                                 activation_22[0][0]              \n",
            "                                                                 activation_25[0][0]              \n",
            "                                                                 activation_26[0][0]              \n",
            "__________________________________________________________________________________________________\n",
            "conv2d_36 (Conv2D)              (None, 35, 35, 64)   18432       mixed2[0][0]                     \n",
            "__________________________________________________________________________________________________\n",
            "batch_normalization_28 (BatchNo (None, 35, 35, 64)   192         conv2d_36[0][0]                  \n",
            "__________________________________________________________________________________________________\n",
            "activation_28 (Activation)      (None, 35, 35, 64)   0           batch_normalization_28[0][0]     \n",
            "__________________________________________________________________________________________________\n",
            "conv2d_37 (Conv2D)              (None, 35, 35, 96)   55296       activation_28[0][0]              \n",
            "__________________________________________________________________________________________________\n",
            "batch_normalization_29 (BatchNo (None, 35, 35, 96)   288         conv2d_37[0][0]                  \n",
            "__________________________________________________________________________________________________\n",
            "activation_29 (Activation)      (None, 35, 35, 96)   0           batch_normalization_29[0][0]     \n",
            "__________________________________________________________________________________________________\n",
            "conv2d_35 (Conv2D)              (None, 17, 17, 384)  995328      mixed2[0][0]                     \n",
            "__________________________________________________________________________________________________\n",
            "conv2d_38 (Conv2D)              (None, 17, 17, 96)   82944       activation_29[0][0]              \n",
            "__________________________________________________________________________________________________\n",
            "batch_normalization_27 (BatchNo (None, 17, 17, 384)  1152        conv2d_35[0][0]                  \n",
            "__________________________________________________________________________________________________\n",
            "batch_normalization_30 (BatchNo (None, 17, 17, 96)   288         conv2d_38[0][0]                  \n",
            "__________________________________________________________________________________________________\n",
            "activation_27 (Activation)      (None, 17, 17, 384)  0           batch_normalization_27[0][0]     \n",
            "__________________________________________________________________________________________________\n",
            "activation_30 (Activation)      (None, 17, 17, 96)   0           batch_normalization_30[0][0]     \n",
            "__________________________________________________________________________________________________\n",
            "max_pooling2d_11 (MaxPooling2D) (None, 17, 17, 288)  0           mixed2[0][0]                     \n",
            "__________________________________________________________________________________________________\n",
            "mixed3 (Concatenate)            (None, 17, 17, 768)  0           activation_27[0][0]              \n",
            "                                                                 activation_30[0][0]              \n",
            "                                                                 max_pooling2d_11[0][0]           \n",
            "__________________________________________________________________________________________________\n",
            "conv2d_43 (Conv2D)              (None, 17, 17, 128)  98304       mixed3[0][0]                     \n",
            "__________________________________________________________________________________________________\n",
            "batch_normalization_35 (BatchNo (None, 17, 17, 128)  384         conv2d_43[0][0]                  \n",
            "__________________________________________________________________________________________________\n",
            "activation_35 (Activation)      (None, 17, 17, 128)  0           batch_normalization_35[0][0]     \n",
            "__________________________________________________________________________________________________\n",
            "conv2d_44 (Conv2D)              (None, 17, 17, 128)  114688      activation_35[0][0]              \n",
            "__________________________________________________________________________________________________\n",
            "batch_normalization_36 (BatchNo (None, 17, 17, 128)  384         conv2d_44[0][0]                  \n",
            "__________________________________________________________________________________________________\n",
            "activation_36 (Activation)      (None, 17, 17, 128)  0           batch_normalization_36[0][0]     \n",
            "__________________________________________________________________________________________________\n",
            "conv2d_40 (Conv2D)              (None, 17, 17, 128)  98304       mixed3[0][0]                     \n",
            "__________________________________________________________________________________________________\n",
            "conv2d_45 (Conv2D)              (None, 17, 17, 128)  114688      activation_36[0][0]              \n",
            "__________________________________________________________________________________________________\n",
            "batch_normalization_32 (BatchNo (None, 17, 17, 128)  384         conv2d_40[0][0]                  \n",
            "__________________________________________________________________________________________________\n",
            "batch_normalization_37 (BatchNo (None, 17, 17, 128)  384         conv2d_45[0][0]                  \n",
            "__________________________________________________________________________________________________\n",
            "activation_32 (Activation)      (None, 17, 17, 128)  0           batch_normalization_32[0][0]     \n",
            "__________________________________________________________________________________________________\n",
            "activation_37 (Activation)      (None, 17, 17, 128)  0           batch_normalization_37[0][0]     \n",
            "__________________________________________________________________________________________________\n",
            "conv2d_41 (Conv2D)              (None, 17, 17, 128)  114688      activation_32[0][0]              \n",
            "__________________________________________________________________________________________________\n",
            "conv2d_46 (Conv2D)              (None, 17, 17, 128)  114688      activation_37[0][0]              \n",
            "__________________________________________________________________________________________________\n",
            "batch_normalization_33 (BatchNo (None, 17, 17, 128)  384         conv2d_41[0][0]                  \n",
            "__________________________________________________________________________________________________\n",
            "batch_normalization_38 (BatchNo (None, 17, 17, 128)  384         conv2d_46[0][0]                  \n",
            "__________________________________________________________________________________________________\n",
            "activation_33 (Activation)      (None, 17, 17, 128)  0           batch_normalization_33[0][0]     \n",
            "__________________________________________________________________________________________________\n",
            "activation_38 (Activation)      (None, 17, 17, 128)  0           batch_normalization_38[0][0]     \n",
            "__________________________________________________________________________________________________\n",
            "average_pooling2d_4 (AveragePoo (None, 17, 17, 768)  0           mixed3[0][0]                     \n",
            "__________________________________________________________________________________________________\n",
            "conv2d_39 (Conv2D)              (None, 17, 17, 192)  147456      mixed3[0][0]                     \n",
            "__________________________________________________________________________________________________\n",
            "conv2d_42 (Conv2D)              (None, 17, 17, 192)  172032      activation_33[0][0]              \n",
            "__________________________________________________________________________________________________\n",
            "conv2d_47 (Conv2D)              (None, 17, 17, 192)  172032      activation_38[0][0]              \n",
            "__________________________________________________________________________________________________\n",
            "conv2d_48 (Conv2D)              (None, 17, 17, 192)  147456      average_pooling2d_4[0][0]        \n",
            "__________________________________________________________________________________________________\n",
            "batch_normalization_31 (BatchNo (None, 17, 17, 192)  576         conv2d_39[0][0]                  \n",
            "__________________________________________________________________________________________________\n",
            "batch_normalization_34 (BatchNo (None, 17, 17, 192)  576         conv2d_42[0][0]                  \n",
            "__________________________________________________________________________________________________\n",
            "batch_normalization_39 (BatchNo (None, 17, 17, 192)  576         conv2d_47[0][0]                  \n",
            "__________________________________________________________________________________________________\n",
            "batch_normalization_40 (BatchNo (None, 17, 17, 192)  576         conv2d_48[0][0]                  \n",
            "__________________________________________________________________________________________________\n",
            "activation_31 (Activation)      (None, 17, 17, 192)  0           batch_normalization_31[0][0]     \n",
            "__________________________________________________________________________________________________\n",
            "activation_34 (Activation)      (None, 17, 17, 192)  0           batch_normalization_34[0][0]     \n",
            "__________________________________________________________________________________________________\n",
            "activation_39 (Activation)      (None, 17, 17, 192)  0           batch_normalization_39[0][0]     \n",
            "__________________________________________________________________________________________________\n",
            "activation_40 (Activation)      (None, 17, 17, 192)  0           batch_normalization_40[0][0]     \n",
            "__________________________________________________________________________________________________\n",
            "mixed4 (Concatenate)            (None, 17, 17, 768)  0           activation_31[0][0]              \n",
            "                                                                 activation_34[0][0]              \n",
            "                                                                 activation_39[0][0]              \n",
            "                                                                 activation_40[0][0]              \n",
            "__________________________________________________________________________________________________\n",
            "conv2d_53 (Conv2D)              (None, 17, 17, 160)  122880      mixed4[0][0]                     \n",
            "__________________________________________________________________________________________________\n",
            "batch_normalization_45 (BatchNo (None, 17, 17, 160)  480         conv2d_53[0][0]                  \n",
            "__________________________________________________________________________________________________\n",
            "activation_45 (Activation)      (None, 17, 17, 160)  0           batch_normalization_45[0][0]     \n",
            "__________________________________________________________________________________________________\n",
            "conv2d_54 (Conv2D)              (None, 17, 17, 160)  179200      activation_45[0][0]              \n",
            "__________________________________________________________________________________________________\n",
            "batch_normalization_46 (BatchNo (None, 17, 17, 160)  480         conv2d_54[0][0]                  \n",
            "__________________________________________________________________________________________________\n",
            "activation_46 (Activation)      (None, 17, 17, 160)  0           batch_normalization_46[0][0]     \n",
            "__________________________________________________________________________________________________\n",
            "conv2d_50 (Conv2D)              (None, 17, 17, 160)  122880      mixed4[0][0]                     \n",
            "__________________________________________________________________________________________________\n",
            "conv2d_55 (Conv2D)              (None, 17, 17, 160)  179200      activation_46[0][0]              \n",
            "__________________________________________________________________________________________________\n",
            "batch_normalization_42 (BatchNo (None, 17, 17, 160)  480         conv2d_50[0][0]                  \n",
            "__________________________________________________________________________________________________\n",
            "batch_normalization_47 (BatchNo (None, 17, 17, 160)  480         conv2d_55[0][0]                  \n",
            "__________________________________________________________________________________________________\n",
            "activation_42 (Activation)      (None, 17, 17, 160)  0           batch_normalization_42[0][0]     \n",
            "__________________________________________________________________________________________________\n",
            "activation_47 (Activation)      (None, 17, 17, 160)  0           batch_normalization_47[0][0]     \n",
            "__________________________________________________________________________________________________\n",
            "conv2d_51 (Conv2D)              (None, 17, 17, 160)  179200      activation_42[0][0]              \n",
            "__________________________________________________________________________________________________\n",
            "conv2d_56 (Conv2D)              (None, 17, 17, 160)  179200      activation_47[0][0]              \n",
            "__________________________________________________________________________________________________\n",
            "batch_normalization_43 (BatchNo (None, 17, 17, 160)  480         conv2d_51[0][0]                  \n",
            "__________________________________________________________________________________________________\n",
            "batch_normalization_48 (BatchNo (None, 17, 17, 160)  480         conv2d_56[0][0]                  \n",
            "__________________________________________________________________________________________________\n",
            "activation_43 (Activation)      (None, 17, 17, 160)  0           batch_normalization_43[0][0]     \n",
            "__________________________________________________________________________________________________\n",
            "activation_48 (Activation)      (None, 17, 17, 160)  0           batch_normalization_48[0][0]     \n",
            "__________________________________________________________________________________________________\n",
            "average_pooling2d_5 (AveragePoo (None, 17, 17, 768)  0           mixed4[0][0]                     \n",
            "__________________________________________________________________________________________________\n",
            "conv2d_49 (Conv2D)              (None, 17, 17, 192)  147456      mixed4[0][0]                     \n",
            "__________________________________________________________________________________________________\n",
            "conv2d_52 (Conv2D)              (None, 17, 17, 192)  215040      activation_43[0][0]              \n",
            "__________________________________________________________________________________________________\n",
            "conv2d_57 (Conv2D)              (None, 17, 17, 192)  215040      activation_48[0][0]              \n",
            "__________________________________________________________________________________________________\n",
            "conv2d_58 (Conv2D)              (None, 17, 17, 192)  147456      average_pooling2d_5[0][0]        \n",
            "__________________________________________________________________________________________________\n",
            "batch_normalization_41 (BatchNo (None, 17, 17, 192)  576         conv2d_49[0][0]                  \n",
            "__________________________________________________________________________________________________\n",
            "batch_normalization_44 (BatchNo (None, 17, 17, 192)  576         conv2d_52[0][0]                  \n",
            "__________________________________________________________________________________________________\n",
            "batch_normalization_49 (BatchNo (None, 17, 17, 192)  576         conv2d_57[0][0]                  \n",
            "__________________________________________________________________________________________________\n",
            "batch_normalization_50 (BatchNo (None, 17, 17, 192)  576         conv2d_58[0][0]                  \n",
            "__________________________________________________________________________________________________\n",
            "activation_41 (Activation)      (None, 17, 17, 192)  0           batch_normalization_41[0][0]     \n",
            "__________________________________________________________________________________________________\n",
            "activation_44 (Activation)      (None, 17, 17, 192)  0           batch_normalization_44[0][0]     \n",
            "__________________________________________________________________________________________________\n",
            "activation_49 (Activation)      (None, 17, 17, 192)  0           batch_normalization_49[0][0]     \n",
            "__________________________________________________________________________________________________\n",
            "activation_50 (Activation)      (None, 17, 17, 192)  0           batch_normalization_50[0][0]     \n",
            "__________________________________________________________________________________________________\n",
            "mixed5 (Concatenate)            (None, 17, 17, 768)  0           activation_41[0][0]              \n",
            "                                                                 activation_44[0][0]              \n",
            "                                                                 activation_49[0][0]              \n",
            "                                                                 activation_50[0][0]              \n",
            "__________________________________________________________________________________________________\n",
            "conv2d_63 (Conv2D)              (None, 17, 17, 160)  122880      mixed5[0][0]                     \n",
            "__________________________________________________________________________________________________\n",
            "batch_normalization_55 (BatchNo (None, 17, 17, 160)  480         conv2d_63[0][0]                  \n",
            "__________________________________________________________________________________________________\n",
            "activation_55 (Activation)      (None, 17, 17, 160)  0           batch_normalization_55[0][0]     \n",
            "__________________________________________________________________________________________________\n",
            "conv2d_64 (Conv2D)              (None, 17, 17, 160)  179200      activation_55[0][0]              \n",
            "__________________________________________________________________________________________________\n",
            "batch_normalization_56 (BatchNo (None, 17, 17, 160)  480         conv2d_64[0][0]                  \n",
            "__________________________________________________________________________________________________\n",
            "activation_56 (Activation)      (None, 17, 17, 160)  0           batch_normalization_56[0][0]     \n",
            "__________________________________________________________________________________________________\n",
            "conv2d_60 (Conv2D)              (None, 17, 17, 160)  122880      mixed5[0][0]                     \n",
            "__________________________________________________________________________________________________\n",
            "conv2d_65 (Conv2D)              (None, 17, 17, 160)  179200      activation_56[0][0]              \n",
            "__________________________________________________________________________________________________\n",
            "batch_normalization_52 (BatchNo (None, 17, 17, 160)  480         conv2d_60[0][0]                  \n",
            "__________________________________________________________________________________________________\n",
            "batch_normalization_57 (BatchNo (None, 17, 17, 160)  480         conv2d_65[0][0]                  \n",
            "__________________________________________________________________________________________________\n",
            "activation_52 (Activation)      (None, 17, 17, 160)  0           batch_normalization_52[0][0]     \n",
            "__________________________________________________________________________________________________\n",
            "activation_57 (Activation)      (None, 17, 17, 160)  0           batch_normalization_57[0][0]     \n",
            "__________________________________________________________________________________________________\n",
            "conv2d_61 (Conv2D)              (None, 17, 17, 160)  179200      activation_52[0][0]              \n",
            "__________________________________________________________________________________________________\n",
            "conv2d_66 (Conv2D)              (None, 17, 17, 160)  179200      activation_57[0][0]              \n",
            "__________________________________________________________________________________________________\n",
            "batch_normalization_53 (BatchNo (None, 17, 17, 160)  480         conv2d_61[0][0]                  \n",
            "__________________________________________________________________________________________________\n",
            "batch_normalization_58 (BatchNo (None, 17, 17, 160)  480         conv2d_66[0][0]                  \n",
            "__________________________________________________________________________________________________\n",
            "activation_53 (Activation)      (None, 17, 17, 160)  0           batch_normalization_53[0][0]     \n",
            "__________________________________________________________________________________________________\n",
            "activation_58 (Activation)      (None, 17, 17, 160)  0           batch_normalization_58[0][0]     \n",
            "__________________________________________________________________________________________________\n",
            "average_pooling2d_6 (AveragePoo (None, 17, 17, 768)  0           mixed5[0][0]                     \n",
            "__________________________________________________________________________________________________\n",
            "conv2d_59 (Conv2D)              (None, 17, 17, 192)  147456      mixed5[0][0]                     \n",
            "__________________________________________________________________________________________________\n",
            "conv2d_62 (Conv2D)              (None, 17, 17, 192)  215040      activation_53[0][0]              \n",
            "__________________________________________________________________________________________________\n",
            "conv2d_67 (Conv2D)              (None, 17, 17, 192)  215040      activation_58[0][0]              \n",
            "__________________________________________________________________________________________________\n",
            "conv2d_68 (Conv2D)              (None, 17, 17, 192)  147456      average_pooling2d_6[0][0]        \n",
            "__________________________________________________________________________________________________\n",
            "batch_normalization_51 (BatchNo (None, 17, 17, 192)  576         conv2d_59[0][0]                  \n",
            "__________________________________________________________________________________________________\n",
            "batch_normalization_54 (BatchNo (None, 17, 17, 192)  576         conv2d_62[0][0]                  \n",
            "__________________________________________________________________________________________________\n",
            "batch_normalization_59 (BatchNo (None, 17, 17, 192)  576         conv2d_67[0][0]                  \n",
            "__________________________________________________________________________________________________\n",
            "batch_normalization_60 (BatchNo (None, 17, 17, 192)  576         conv2d_68[0][0]                  \n",
            "__________________________________________________________________________________________________\n",
            "activation_51 (Activation)      (None, 17, 17, 192)  0           batch_normalization_51[0][0]     \n",
            "__________________________________________________________________________________________________\n",
            "activation_54 (Activation)      (None, 17, 17, 192)  0           batch_normalization_54[0][0]     \n",
            "__________________________________________________________________________________________________\n",
            "activation_59 (Activation)      (None, 17, 17, 192)  0           batch_normalization_59[0][0]     \n",
            "__________________________________________________________________________________________________\n",
            "activation_60 (Activation)      (None, 17, 17, 192)  0           batch_normalization_60[0][0]     \n",
            "__________________________________________________________________________________________________\n",
            "mixed6 (Concatenate)            (None, 17, 17, 768)  0           activation_51[0][0]              \n",
            "                                                                 activation_54[0][0]              \n",
            "                                                                 activation_59[0][0]              \n",
            "                                                                 activation_60[0][0]              \n",
            "__________________________________________________________________________________________________\n",
            "conv2d_73 (Conv2D)              (None, 17, 17, 192)  147456      mixed6[0][0]                     \n",
            "__________________________________________________________________________________________________\n",
            "batch_normalization_65 (BatchNo (None, 17, 17, 192)  576         conv2d_73[0][0]                  \n",
            "__________________________________________________________________________________________________\n",
            "activation_65 (Activation)      (None, 17, 17, 192)  0           batch_normalization_65[0][0]     \n",
            "__________________________________________________________________________________________________\n",
            "conv2d_74 (Conv2D)              (None, 17, 17, 192)  258048      activation_65[0][0]              \n",
            "__________________________________________________________________________________________________\n",
            "batch_normalization_66 (BatchNo (None, 17, 17, 192)  576         conv2d_74[0][0]                  \n",
            "__________________________________________________________________________________________________\n",
            "activation_66 (Activation)      (None, 17, 17, 192)  0           batch_normalization_66[0][0]     \n",
            "__________________________________________________________________________________________________\n",
            "conv2d_70 (Conv2D)              (None, 17, 17, 192)  147456      mixed6[0][0]                     \n",
            "__________________________________________________________________________________________________\n",
            "conv2d_75 (Conv2D)              (None, 17, 17, 192)  258048      activation_66[0][0]              \n",
            "__________________________________________________________________________________________________\n",
            "batch_normalization_62 (BatchNo (None, 17, 17, 192)  576         conv2d_70[0][0]                  \n",
            "__________________________________________________________________________________________________\n",
            "batch_normalization_67 (BatchNo (None, 17, 17, 192)  576         conv2d_75[0][0]                  \n",
            "__________________________________________________________________________________________________\n",
            "activation_62 (Activation)      (None, 17, 17, 192)  0           batch_normalization_62[0][0]     \n",
            "__________________________________________________________________________________________________\n",
            "activation_67 (Activation)      (None, 17, 17, 192)  0           batch_normalization_67[0][0]     \n",
            "__________________________________________________________________________________________________\n",
            "conv2d_71 (Conv2D)              (None, 17, 17, 192)  258048      activation_62[0][0]              \n",
            "__________________________________________________________________________________________________\n",
            "conv2d_76 (Conv2D)              (None, 17, 17, 192)  258048      activation_67[0][0]              \n",
            "__________________________________________________________________________________________________\n",
            "batch_normalization_63 (BatchNo (None, 17, 17, 192)  576         conv2d_71[0][0]                  \n",
            "__________________________________________________________________________________________________\n",
            "batch_normalization_68 (BatchNo (None, 17, 17, 192)  576         conv2d_76[0][0]                  \n",
            "__________________________________________________________________________________________________\n",
            "activation_63 (Activation)      (None, 17, 17, 192)  0           batch_normalization_63[0][0]     \n",
            "__________________________________________________________________________________________________\n",
            "activation_68 (Activation)      (None, 17, 17, 192)  0           batch_normalization_68[0][0]     \n",
            "__________________________________________________________________________________________________\n",
            "average_pooling2d_7 (AveragePoo (None, 17, 17, 768)  0           mixed6[0][0]                     \n",
            "__________________________________________________________________________________________________\n",
            "conv2d_69 (Conv2D)              (None, 17, 17, 192)  147456      mixed6[0][0]                     \n",
            "__________________________________________________________________________________________________\n",
            "conv2d_72 (Conv2D)              (None, 17, 17, 192)  258048      activation_63[0][0]              \n",
            "__________________________________________________________________________________________________\n",
            "conv2d_77 (Conv2D)              (None, 17, 17, 192)  258048      activation_68[0][0]              \n",
            "__________________________________________________________________________________________________\n",
            "conv2d_78 (Conv2D)              (None, 17, 17, 192)  147456      average_pooling2d_7[0][0]        \n",
            "__________________________________________________________________________________________________\n",
            "batch_normalization_61 (BatchNo (None, 17, 17, 192)  576         conv2d_69[0][0]                  \n",
            "__________________________________________________________________________________________________\n",
            "batch_normalization_64 (BatchNo (None, 17, 17, 192)  576         conv2d_72[0][0]                  \n",
            "__________________________________________________________________________________________________\n",
            "batch_normalization_69 (BatchNo (None, 17, 17, 192)  576         conv2d_77[0][0]                  \n",
            "__________________________________________________________________________________________________\n",
            "batch_normalization_70 (BatchNo (None, 17, 17, 192)  576         conv2d_78[0][0]                  \n",
            "__________________________________________________________________________________________________\n",
            "activation_61 (Activation)      (None, 17, 17, 192)  0           batch_normalization_61[0][0]     \n",
            "__________________________________________________________________________________________________\n",
            "activation_64 (Activation)      (None, 17, 17, 192)  0           batch_normalization_64[0][0]     \n",
            "__________________________________________________________________________________________________\n",
            "activation_69 (Activation)      (None, 17, 17, 192)  0           batch_normalization_69[0][0]     \n",
            "__________________________________________________________________________________________________\n",
            "activation_70 (Activation)      (None, 17, 17, 192)  0           batch_normalization_70[0][0]     \n",
            "__________________________________________________________________________________________________\n",
            "mixed7 (Concatenate)            (None, 17, 17, 768)  0           activation_61[0][0]              \n",
            "                                                                 activation_64[0][0]              \n",
            "                                                                 activation_69[0][0]              \n",
            "                                                                 activation_70[0][0]              \n",
            "__________________________________________________________________________________________________\n",
            "conv2d_81 (Conv2D)              (None, 17, 17, 192)  147456      mixed7[0][0]                     \n",
            "__________________________________________________________________________________________________\n",
            "batch_normalization_73 (BatchNo (None, 17, 17, 192)  576         conv2d_81[0][0]                  \n",
            "__________________________________________________________________________________________________\n",
            "activation_73 (Activation)      (None, 17, 17, 192)  0           batch_normalization_73[0][0]     \n",
            "__________________________________________________________________________________________________\n",
            "conv2d_82 (Conv2D)              (None, 17, 17, 192)  258048      activation_73[0][0]              \n",
            "__________________________________________________________________________________________________\n",
            "batch_normalization_74 (BatchNo (None, 17, 17, 192)  576         conv2d_82[0][0]                  \n",
            "__________________________________________________________________________________________________\n",
            "activation_74 (Activation)      (None, 17, 17, 192)  0           batch_normalization_74[0][0]     \n",
            "__________________________________________________________________________________________________\n",
            "conv2d_79 (Conv2D)              (None, 17, 17, 192)  147456      mixed7[0][0]                     \n",
            "__________________________________________________________________________________________________\n",
            "conv2d_83 (Conv2D)              (None, 17, 17, 192)  258048      activation_74[0][0]              \n",
            "__________________________________________________________________________________________________\n",
            "batch_normalization_71 (BatchNo (None, 17, 17, 192)  576         conv2d_79[0][0]                  \n",
            "__________________________________________________________________________________________________\n",
            "batch_normalization_75 (BatchNo (None, 17, 17, 192)  576         conv2d_83[0][0]                  \n",
            "__________________________________________________________________________________________________\n",
            "activation_71 (Activation)      (None, 17, 17, 192)  0           batch_normalization_71[0][0]     \n",
            "__________________________________________________________________________________________________\n",
            "activation_75 (Activation)      (None, 17, 17, 192)  0           batch_normalization_75[0][0]     \n",
            "__________________________________________________________________________________________________\n",
            "conv2d_80 (Conv2D)              (None, 8, 8, 320)    552960      activation_71[0][0]              \n",
            "__________________________________________________________________________________________________\n",
            "conv2d_84 (Conv2D)              (None, 8, 8, 192)    331776      activation_75[0][0]              \n",
            "__________________________________________________________________________________________________\n",
            "batch_normalization_72 (BatchNo (None, 8, 8, 320)    960         conv2d_80[0][0]                  \n",
            "__________________________________________________________________________________________________\n",
            "batch_normalization_76 (BatchNo (None, 8, 8, 192)    576         conv2d_84[0][0]                  \n",
            "__________________________________________________________________________________________________\n",
            "activation_72 (Activation)      (None, 8, 8, 320)    0           batch_normalization_72[0][0]     \n",
            "__________________________________________________________________________________________________\n",
            "activation_76 (Activation)      (None, 8, 8, 192)    0           batch_normalization_76[0][0]     \n",
            "__________________________________________________________________________________________________\n",
            "max_pooling2d_12 (MaxPooling2D) (None, 8, 8, 768)    0           mixed7[0][0]                     \n",
            "__________________________________________________________________________________________________\n",
            "mixed8 (Concatenate)            (None, 8, 8, 1280)   0           activation_72[0][0]              \n",
            "                                                                 activation_76[0][0]              \n",
            "                                                                 max_pooling2d_12[0][0]           \n",
            "__________________________________________________________________________________________________\n",
            "conv2d_89 (Conv2D)              (None, 8, 8, 448)    573440      mixed8[0][0]                     \n",
            "__________________________________________________________________________________________________\n",
            "batch_normalization_81 (BatchNo (None, 8, 8, 448)    1344        conv2d_89[0][0]                  \n",
            "__________________________________________________________________________________________________\n",
            "activation_81 (Activation)      (None, 8, 8, 448)    0           batch_normalization_81[0][0]     \n",
            "__________________________________________________________________________________________________\n",
            "conv2d_86 (Conv2D)              (None, 8, 8, 384)    491520      mixed8[0][0]                     \n",
            "__________________________________________________________________________________________________\n",
            "conv2d_90 (Conv2D)              (None, 8, 8, 384)    1548288     activation_81[0][0]              \n",
            "__________________________________________________________________________________________________\n",
            "batch_normalization_78 (BatchNo (None, 8, 8, 384)    1152        conv2d_86[0][0]                  \n",
            "__________________________________________________________________________________________________\n",
            "batch_normalization_82 (BatchNo (None, 8, 8, 384)    1152        conv2d_90[0][0]                  \n",
            "__________________________________________________________________________________________________\n",
            "activation_78 (Activation)      (None, 8, 8, 384)    0           batch_normalization_78[0][0]     \n",
            "__________________________________________________________________________________________________\n",
            "activation_82 (Activation)      (None, 8, 8, 384)    0           batch_normalization_82[0][0]     \n",
            "__________________________________________________________________________________________________\n",
            "conv2d_87 (Conv2D)              (None, 8, 8, 384)    442368      activation_78[0][0]              \n",
            "__________________________________________________________________________________________________\n",
            "conv2d_88 (Conv2D)              (None, 8, 8, 384)    442368      activation_78[0][0]              \n",
            "__________________________________________________________________________________________________\n",
            "conv2d_91 (Conv2D)              (None, 8, 8, 384)    442368      activation_82[0][0]              \n",
            "__________________________________________________________________________________________________\n",
            "conv2d_92 (Conv2D)              (None, 8, 8, 384)    442368      activation_82[0][0]              \n",
            "__________________________________________________________________________________________________\n",
            "average_pooling2d_8 (AveragePoo (None, 8, 8, 1280)   0           mixed8[0][0]                     \n",
            "__________________________________________________________________________________________________\n",
            "conv2d_85 (Conv2D)              (None, 8, 8, 320)    409600      mixed8[0][0]                     \n",
            "__________________________________________________________________________________________________\n",
            "batch_normalization_79 (BatchNo (None, 8, 8, 384)    1152        conv2d_87[0][0]                  \n",
            "__________________________________________________________________________________________________\n",
            "batch_normalization_80 (BatchNo (None, 8, 8, 384)    1152        conv2d_88[0][0]                  \n",
            "__________________________________________________________________________________________________\n",
            "batch_normalization_83 (BatchNo (None, 8, 8, 384)    1152        conv2d_91[0][0]                  \n",
            "__________________________________________________________________________________________________\n",
            "batch_normalization_84 (BatchNo (None, 8, 8, 384)    1152        conv2d_92[0][0]                  \n",
            "__________________________________________________________________________________________________\n",
            "conv2d_93 (Conv2D)              (None, 8, 8, 192)    245760      average_pooling2d_8[0][0]        \n",
            "__________________________________________________________________________________________________\n",
            "batch_normalization_77 (BatchNo (None, 8, 8, 320)    960         conv2d_85[0][0]                  \n",
            "__________________________________________________________________________________________________\n",
            "activation_79 (Activation)      (None, 8, 8, 384)    0           batch_normalization_79[0][0]     \n",
            "__________________________________________________________________________________________________\n",
            "activation_80 (Activation)      (None, 8, 8, 384)    0           batch_normalization_80[0][0]     \n",
            "__________________________________________________________________________________________________\n",
            "activation_83 (Activation)      (None, 8, 8, 384)    0           batch_normalization_83[0][0]     \n",
            "__________________________________________________________________________________________________\n",
            "activation_84 (Activation)      (None, 8, 8, 384)    0           batch_normalization_84[0][0]     \n",
            "__________________________________________________________________________________________________\n",
            "batch_normalization_85 (BatchNo (None, 8, 8, 192)    576         conv2d_93[0][0]                  \n",
            "__________________________________________________________________________________________________\n",
            "activation_77 (Activation)      (None, 8, 8, 320)    0           batch_normalization_77[0][0]     \n",
            "__________________________________________________________________________________________________\n",
            "mixed9_0 (Concatenate)          (None, 8, 8, 768)    0           activation_79[0][0]              \n",
            "                                                                 activation_80[0][0]              \n",
            "__________________________________________________________________________________________________\n",
            "concatenate_1 (Concatenate)     (None, 8, 8, 768)    0           activation_83[0][0]              \n",
            "                                                                 activation_84[0][0]              \n",
            "__________________________________________________________________________________________________\n",
            "activation_85 (Activation)      (None, 8, 8, 192)    0           batch_normalization_85[0][0]     \n",
            "__________________________________________________________________________________________________\n",
            "mixed9 (Concatenate)            (None, 8, 8, 2048)   0           activation_77[0][0]              \n",
            "                                                                 mixed9_0[0][0]                   \n",
            "                                                                 concatenate_1[0][0]              \n",
            "                                                                 activation_85[0][0]              \n",
            "__________________________________________________________________________________________________\n",
            "conv2d_98 (Conv2D)              (None, 8, 8, 448)    917504      mixed9[0][0]                     \n",
            "__________________________________________________________________________________________________\n",
            "batch_normalization_90 (BatchNo (None, 8, 8, 448)    1344        conv2d_98[0][0]                  \n",
            "__________________________________________________________________________________________________\n",
            "activation_90 (Activation)      (None, 8, 8, 448)    0           batch_normalization_90[0][0]     \n",
            "__________________________________________________________________________________________________\n",
            "conv2d_95 (Conv2D)              (None, 8, 8, 384)    786432      mixed9[0][0]                     \n",
            "__________________________________________________________________________________________________\n",
            "conv2d_99 (Conv2D)              (None, 8, 8, 384)    1548288     activation_90[0][0]              \n",
            "__________________________________________________________________________________________________\n",
            "batch_normalization_87 (BatchNo (None, 8, 8, 384)    1152        conv2d_95[0][0]                  \n",
            "__________________________________________________________________________________________________\n",
            "batch_normalization_91 (BatchNo (None, 8, 8, 384)    1152        conv2d_99[0][0]                  \n",
            "__________________________________________________________________________________________________\n",
            "activation_87 (Activation)      (None, 8, 8, 384)    0           batch_normalization_87[0][0]     \n",
            "__________________________________________________________________________________________________\n",
            "activation_91 (Activation)      (None, 8, 8, 384)    0           batch_normalization_91[0][0]     \n",
            "__________________________________________________________________________________________________\n",
            "conv2d_96 (Conv2D)              (None, 8, 8, 384)    442368      activation_87[0][0]              \n",
            "__________________________________________________________________________________________________\n",
            "conv2d_97 (Conv2D)              (None, 8, 8, 384)    442368      activation_87[0][0]              \n",
            "__________________________________________________________________________________________________\n",
            "conv2d_100 (Conv2D)             (None, 8, 8, 384)    442368      activation_91[0][0]              \n",
            "__________________________________________________________________________________________________\n",
            "conv2d_101 (Conv2D)             (None, 8, 8, 384)    442368      activation_91[0][0]              \n",
            "__________________________________________________________________________________________________\n",
            "average_pooling2d_9 (AveragePoo (None, 8, 8, 2048)   0           mixed9[0][0]                     \n",
            "__________________________________________________________________________________________________\n",
            "conv2d_94 (Conv2D)              (None, 8, 8, 320)    655360      mixed9[0][0]                     \n",
            "__________________________________________________________________________________________________\n",
            "batch_normalization_88 (BatchNo (None, 8, 8, 384)    1152        conv2d_96[0][0]                  \n",
            "__________________________________________________________________________________________________\n",
            "batch_normalization_89 (BatchNo (None, 8, 8, 384)    1152        conv2d_97[0][0]                  \n",
            "__________________________________________________________________________________________________\n",
            "batch_normalization_92 (BatchNo (None, 8, 8, 384)    1152        conv2d_100[0][0]                 \n",
            "__________________________________________________________________________________________________\n",
            "batch_normalization_93 (BatchNo (None, 8, 8, 384)    1152        conv2d_101[0][0]                 \n",
            "__________________________________________________________________________________________________\n",
            "conv2d_102 (Conv2D)             (None, 8, 8, 192)    393216      average_pooling2d_9[0][0]        \n",
            "__________________________________________________________________________________________________\n",
            "batch_normalization_86 (BatchNo (None, 8, 8, 320)    960         conv2d_94[0][0]                  \n",
            "__________________________________________________________________________________________________\n",
            "activation_88 (Activation)      (None, 8, 8, 384)    0           batch_normalization_88[0][0]     \n",
            "__________________________________________________________________________________________________\n",
            "activation_89 (Activation)      (None, 8, 8, 384)    0           batch_normalization_89[0][0]     \n",
            "__________________________________________________________________________________________________\n",
            "activation_92 (Activation)      (None, 8, 8, 384)    0           batch_normalization_92[0][0]     \n",
            "__________________________________________________________________________________________________\n",
            "activation_93 (Activation)      (None, 8, 8, 384)    0           batch_normalization_93[0][0]     \n",
            "__________________________________________________________________________________________________\n",
            "batch_normalization_94 (BatchNo (None, 8, 8, 192)    576         conv2d_102[0][0]                 \n",
            "__________________________________________________________________________________________________\n",
            "activation_86 (Activation)      (None, 8, 8, 320)    0           batch_normalization_86[0][0]     \n",
            "__________________________________________________________________________________________________\n",
            "mixed9_1 (Concatenate)          (None, 8, 8, 768)    0           activation_88[0][0]              \n",
            "                                                                 activation_89[0][0]              \n",
            "__________________________________________________________________________________________________\n",
            "concatenate_2 (Concatenate)     (None, 8, 8, 768)    0           activation_92[0][0]              \n",
            "                                                                 activation_93[0][0]              \n",
            "__________________________________________________________________________________________________\n",
            "activation_94 (Activation)      (None, 8, 8, 192)    0           batch_normalization_94[0][0]     \n",
            "__________________________________________________________________________________________________\n",
            "mixed10 (Concatenate)           (None, 8, 8, 2048)   0           activation_86[0][0]              \n",
            "                                                                 mixed9_1[0][0]                   \n",
            "                                                                 concatenate_2[0][0]              \n",
            "                                                                 activation_94[0][0]              \n",
            "==================================================================================================\n",
            "Total params: 21,802,784\n",
            "Trainable params: 0\n",
            "Non-trainable params: 21,802,784\n",
            "__________________________________________________________________________________________________\n"
          ],
          "name": "stdout"
        }
      ]
    },
    {
      "cell_type": "code",
      "metadata": {
        "colab_type": "code",
        "id": "aQjuu8dxQnM9",
        "colab": {}
      },
      "source": [
        "custom_inception = Sequential()\n",
        "custom_inception.add(inception)\n",
        "custom_inception.add(Flatten())\n",
        "custom_inception.add(Dense(10, activation='softmax'))"
      ],
      "execution_count": 0,
      "outputs": []
    },
    {
      "cell_type": "code",
      "metadata": {
        "colab_type": "code",
        "id": "ascrWbUFR3p9",
        "colab": {
          "base_uri": "https://localhost:8080/",
          "height": 255
        },
        "outputId": "ec71fe99-faa0-4801-8dbd-d248f80cb5e5"
      },
      "source": [
        "custom_inception.summary()"
      ],
      "execution_count": 59,
      "outputs": [
        {
          "output_type": "stream",
          "text": [
            "Model: \"sequential_7\"\n",
            "_________________________________________________________________\n",
            "Layer (type)                 Output Shape              Param #   \n",
            "=================================================================\n",
            "inception_v3 (Model)         (None, 8, 8, 2048)        21802784  \n",
            "_________________________________________________________________\n",
            "flatten_5 (Flatten)          (None, 131072)            0         \n",
            "_________________________________________________________________\n",
            "dense_15 (Dense)             (None, 10)                1310730   \n",
            "=================================================================\n",
            "Total params: 23,113,514\n",
            "Trainable params: 1,310,730\n",
            "Non-trainable params: 21,802,784\n",
            "_________________________________________________________________\n"
          ],
          "name": "stdout"
        }
      ]
    },
    {
      "cell_type": "code",
      "metadata": {
        "colab_type": "code",
        "id": "MHmUesyeQu_7",
        "colab": {}
      },
      "source": [
        "custom_inception.compile(optimizer=Adam(), loss='categorical_crossentropy', metrics=['accuracy'])"
      ],
      "execution_count": 0,
      "outputs": []
    },
    {
      "cell_type": "code",
      "metadata": {
        "colab_type": "code",
        "id": "ajisdIQIREa5",
        "colab": {
          "base_uri": "https://localhost:8080/",
          "height": 731
        },
        "outputId": "32ffad84-a6e6-49df-ee29-78fc5f100f06"
      },
      "source": [
        "custom_inception.fit(x=images, y=labels, batch_size=16, epochs=20, validation_data=(val_images, val_labels))"
      ],
      "execution_count": 61,
      "outputs": [
        {
          "output_type": "stream",
          "text": [
            "Train on 2196 samples, validate on 272 samples\n",
            "Epoch 1/20\n",
            "2196/2196 [==============================] - 42s 19ms/step - loss: 3.3816 - accuracy: 0.7960 - val_loss: 0.7405 - val_accuracy: 0.9449\n",
            "Epoch 2/20\n",
            "2196/2196 [==============================] - 35s 16ms/step - loss: 0.7529 - accuracy: 0.9440 - val_loss: 0.8696 - val_accuracy: 0.9596\n",
            "Epoch 3/20\n",
            "2196/2196 [==============================] - 35s 16ms/step - loss: 0.5966 - accuracy: 0.9567 - val_loss: 2.2232 - val_accuracy: 0.8750\n",
            "Epoch 4/20\n",
            "2196/2196 [==============================] - 35s 16ms/step - loss: 0.6452 - accuracy: 0.9608 - val_loss: 1.7236 - val_accuracy: 0.9154\n",
            "Epoch 5/20\n",
            "2196/2196 [==============================] - 35s 16ms/step - loss: 0.5031 - accuracy: 0.9727 - val_loss: 2.6944 - val_accuracy: 0.9081\n",
            "Epoch 6/20\n",
            "2196/2196 [==============================] - 35s 16ms/step - loss: 0.7946 - accuracy: 0.9658 - val_loss: 1.4624 - val_accuracy: 0.9338\n",
            "Epoch 7/20\n",
            "2196/2196 [==============================] - 35s 16ms/step - loss: 0.4900 - accuracy: 0.9777 - val_loss: 1.4395 - val_accuracy: 0.9301\n",
            "Epoch 8/20\n",
            "2196/2196 [==============================] - 35s 16ms/step - loss: 0.3481 - accuracy: 0.9832 - val_loss: 1.0949 - val_accuracy: 0.9559\n",
            "Epoch 9/20\n",
            "2196/2196 [==============================] - 35s 16ms/step - loss: 0.5616 - accuracy: 0.9763 - val_loss: 4.2126 - val_accuracy: 0.8787\n",
            "Epoch 10/20\n",
            "2196/2196 [==============================] - 35s 16ms/step - loss: 0.5538 - accuracy: 0.9791 - val_loss: 1.5260 - val_accuracy: 0.9412\n",
            "Epoch 11/20\n",
            "2196/2196 [==============================] - 35s 16ms/step - loss: 0.3964 - accuracy: 0.9832 - val_loss: 0.7995 - val_accuracy: 0.9669\n",
            "Epoch 12/20\n",
            "2196/2196 [==============================] - 35s 16ms/step - loss: 0.2907 - accuracy: 0.9854 - val_loss: 2.2255 - val_accuracy: 0.9228\n",
            "Epoch 13/20\n",
            "2196/2196 [==============================] - 35s 16ms/step - loss: 0.1340 - accuracy: 0.9932 - val_loss: 0.9457 - val_accuracy: 0.9522\n",
            "Epoch 14/20\n",
            "2196/2196 [==============================] - 35s 16ms/step - loss: 0.1823 - accuracy: 0.9904 - val_loss: 2.3849 - val_accuracy: 0.9338\n",
            "Epoch 15/20\n",
            "2196/2196 [==============================] - 35s 16ms/step - loss: 0.1929 - accuracy: 0.9918 - val_loss: 2.2404 - val_accuracy: 0.9449\n",
            "Epoch 16/20\n",
            "2196/2196 [==============================] - 35s 16ms/step - loss: 0.5848 - accuracy: 0.9836 - val_loss: 2.7783 - val_accuracy: 0.9265\n",
            "Epoch 17/20\n",
            "2196/2196 [==============================] - 35s 16ms/step - loss: 0.5864 - accuracy: 0.9818 - val_loss: 3.7651 - val_accuracy: 0.9154\n",
            "Epoch 18/20\n",
            "2196/2196 [==============================] - 35s 16ms/step - loss: 0.8916 - accuracy: 0.9786 - val_loss: 4.6424 - val_accuracy: 0.9007\n",
            "Epoch 19/20\n",
            "2196/2196 [==============================] - 35s 16ms/step - loss: 0.1917 - accuracy: 0.9932 - val_loss: 1.5514 - val_accuracy: 0.9632\n",
            "Epoch 20/20\n",
            "2196/2196 [==============================] - 35s 16ms/step - loss: 0.2722 - accuracy: 0.9932 - val_loss: 4.7078 - val_accuracy: 0.9044\n"
          ],
          "name": "stdout"
        },
        {
          "output_type": "execute_result",
          "data": {
            "text/plain": [
              "<keras.callbacks.callbacks.History at 0x7f273e9aa978>"
            ]
          },
          "metadata": {
            "tags": []
          },
          "execution_count": 61
        }
      ]
    },
    {
      "cell_type": "code",
      "metadata": {
        "colab_type": "code",
        "id": "20f28Nk3SfqZ",
        "colab": {}
      },
      "source": [
        ""
      ],
      "execution_count": 0,
      "outputs": []
    }
  ]
}