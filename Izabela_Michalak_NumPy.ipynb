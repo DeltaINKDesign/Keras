{
  "nbformat": 4,
  "nbformat_minor": 0,
  "metadata": {
    "kernelspec": {
      "display_name": "Python 3",
      "language": "python",
      "name": "python3"
    },
    "language_info": {
      "codemirror_mode": {
        "name": "ipython",
        "version": 3
      },
      "file_extension": ".py",
      "mimetype": "text/x-python",
      "name": "python",
      "nbconvert_exporter": "python",
      "pygments_lexer": "ipython3",
      "version": "3.6.5"
    },
    "colab": {
      "name": "Izabela Michalak NumPy.ipynb",
      "provenance": [],
      "include_colab_link": true
    }
  },
  "cells": [
    {
      "cell_type": "markdown",
      "metadata": {
        "id": "view-in-github",
        "colab_type": "text"
      },
      "source": [
        "<a href=\"https://colab.research.google.com/github/DeltaINKDesign/Keras/blob/master/Izabela_Michalak_NumPy.ipynb\" target=\"_parent\"><img src=\"https://colab.research.google.com/assets/colab-badge.svg\" alt=\"Open In Colab\"/></a>"
      ]
    },
    {
      "cell_type": "markdown",
      "metadata": {
        "id": "i2PPfChtn7y7",
        "colab_type": "text"
      },
      "source": [
        "#### 1. Zaimportuj bibliotekę numpy z aliasem `np` "
      ]
    },
    {
      "cell_type": "code",
      "metadata": {
        "id": "iMI0oNlcn7y8",
        "colab_type": "code",
        "colab": {}
      },
      "source": [
        "import numpy as np"
      ],
      "execution_count": 0,
      "outputs": []
    },
    {
      "cell_type": "markdown",
      "metadata": {
        "id": "yvMvSF9hn7zB",
        "colab_type": "text"
      },
      "source": [
        "#### 2. Przypisz do zmiennej x, wektor o rozmiarze 10, wypełniony zerami"
      ]
    },
    {
      "cell_type": "code",
      "metadata": {
        "id": "Lm8BAwIEn7zC",
        "colab_type": "code",
        "colab": {}
      },
      "source": [
        "x = np.zeros(10)"
      ],
      "execution_count": 0,
      "outputs": []
    },
    {
      "cell_type": "markdown",
      "metadata": {
        "id": "XnI9FB1dn7zF",
        "colab_type": "text"
      },
      "source": [
        "#### 3. Zmień piąty element wektora x, tak by jego wartość wynosiła 1"
      ]
    },
    {
      "cell_type": "code",
      "metadata": {
        "id": "e1hQd-NYn7zG",
        "colab_type": "code",
        "outputId": "5c9990f0-431a-4366-8c08-dce243cff531",
        "colab": {
          "base_uri": "https://localhost:8080/",
          "height": 34
        }
      },
      "source": [
        "x[4] = 1\n",
        "x"
      ],
      "execution_count": 3,
      "outputs": [
        {
          "output_type": "execute_result",
          "data": {
            "text/plain": [
              "array([0., 0., 0., 0., 1., 0., 0., 0., 0., 0.])"
            ]
          },
          "metadata": {
            "tags": []
          },
          "execution_count": 3
        }
      ]
    },
    {
      "cell_type": "markdown",
      "metadata": {
        "id": "R9CWTcGCn7zL",
        "colab_type": "text"
      },
      "source": [
        "#### 4.  Stwórz wektor którego pierwszy element wynosi 3, a ostatni 345. Każdy kolejny element jest o jeden większy od poprzedniego."
      ]
    },
    {
      "cell_type": "code",
      "metadata": {
        "id": "eVd0H4Dgn7zL",
        "colab_type": "code",
        "outputId": "257ee8a2-9061-4e57-ae22-e643156ec6ab",
        "colab": {
          "base_uri": "https://localhost:8080/",
          "height": 476
        }
      },
      "source": [
        "y = np.arange(3,345)\n",
        "y"
      ],
      "execution_count": 4,
      "outputs": [
        {
          "output_type": "execute_result",
          "data": {
            "text/plain": [
              "array([  3,   4,   5,   6,   7,   8,   9,  10,  11,  12,  13,  14,  15,\n",
              "        16,  17,  18,  19,  20,  21,  22,  23,  24,  25,  26,  27,  28,\n",
              "        29,  30,  31,  32,  33,  34,  35,  36,  37,  38,  39,  40,  41,\n",
              "        42,  43,  44,  45,  46,  47,  48,  49,  50,  51,  52,  53,  54,\n",
              "        55,  56,  57,  58,  59,  60,  61,  62,  63,  64,  65,  66,  67,\n",
              "        68,  69,  70,  71,  72,  73,  74,  75,  76,  77,  78,  79,  80,\n",
              "        81,  82,  83,  84,  85,  86,  87,  88,  89,  90,  91,  92,  93,\n",
              "        94,  95,  96,  97,  98,  99, 100, 101, 102, 103, 104, 105, 106,\n",
              "       107, 108, 109, 110, 111, 112, 113, 114, 115, 116, 117, 118, 119,\n",
              "       120, 121, 122, 123, 124, 125, 126, 127, 128, 129, 130, 131, 132,\n",
              "       133, 134, 135, 136, 137, 138, 139, 140, 141, 142, 143, 144, 145,\n",
              "       146, 147, 148, 149, 150, 151, 152, 153, 154, 155, 156, 157, 158,\n",
              "       159, 160, 161, 162, 163, 164, 165, 166, 167, 168, 169, 170, 171,\n",
              "       172, 173, 174, 175, 176, 177, 178, 179, 180, 181, 182, 183, 184,\n",
              "       185, 186, 187, 188, 189, 190, 191, 192, 193, 194, 195, 196, 197,\n",
              "       198, 199, 200, 201, 202, 203, 204, 205, 206, 207, 208, 209, 210,\n",
              "       211, 212, 213, 214, 215, 216, 217, 218, 219, 220, 221, 222, 223,\n",
              "       224, 225, 226, 227, 228, 229, 230, 231, 232, 233, 234, 235, 236,\n",
              "       237, 238, 239, 240, 241, 242, 243, 244, 245, 246, 247, 248, 249,\n",
              "       250, 251, 252, 253, 254, 255, 256, 257, 258, 259, 260, 261, 262,\n",
              "       263, 264, 265, 266, 267, 268, 269, 270, 271, 272, 273, 274, 275,\n",
              "       276, 277, 278, 279, 280, 281, 282, 283, 284, 285, 286, 287, 288,\n",
              "       289, 290, 291, 292, 293, 294, 295, 296, 297, 298, 299, 300, 301,\n",
              "       302, 303, 304, 305, 306, 307, 308, 309, 310, 311, 312, 313, 314,\n",
              "       315, 316, 317, 318, 319, 320, 321, 322, 323, 324, 325, 326, 327,\n",
              "       328, 329, 330, 331, 332, 333, 334, 335, 336, 337, 338, 339, 340,\n",
              "       341, 342, 343, 344])"
            ]
          },
          "metadata": {
            "tags": []
          },
          "execution_count": 4
        }
      ]
    },
    {
      "cell_type": "markdown",
      "metadata": {
        "id": "c5kB9Qegn7zP",
        "colab_type": "text"
      },
      "source": [
        "#### 5.  Stwórz macierz 3x3 z wartościami od 0 do 9."
      ]
    },
    {
      "cell_type": "code",
      "metadata": {
        "id": "UrJs37g7n7zP",
        "colab_type": "code",
        "outputId": "0f7447a4-2af9-4ccd-8f11-9c1b475045ba",
        "colab": {
          "base_uri": "https://localhost:8080/",
          "height": 68
        }
      },
      "source": [
        "z = np.arange(9)\n",
        "z = z.reshape(3,3)\n",
        "z\n"
      ],
      "execution_count": 5,
      "outputs": [
        {
          "output_type": "execute_result",
          "data": {
            "text/plain": [
              "array([[0, 1, 2],\n",
              "       [3, 4, 5],\n",
              "       [6, 7, 8]])"
            ]
          },
          "metadata": {
            "tags": []
          },
          "execution_count": 5
        }
      ]
    },
    {
      "cell_type": "markdown",
      "metadata": {
        "id": "ZIiNCq46n7zT",
        "colab_type": "text"
      },
      "source": [
        "#### 6. Znajdź indeksy niezerowych elementów listy \\[1,2,0,0,4,0\\] "
      ]
    },
    {
      "cell_type": "code",
      "metadata": {
        "id": "NDOvy8rcn7zT",
        "colab_type": "code",
        "outputId": "54a104b8-f0d0-4b72-9d28-48a69a707792",
        "colab": {
          "base_uri": "https://localhost:8080/",
          "height": 34
        }
      },
      "source": [
        "list = np.array([1,2,0,0,4,0])\n",
        "indexes = list.nonzero()\n",
        "indexes"
      ],
      "execution_count": 6,
      "outputs": [
        {
          "output_type": "execute_result",
          "data": {
            "text/plain": [
              "(array([0, 1, 4]),)"
            ]
          },
          "metadata": {
            "tags": []
          },
          "execution_count": 6
        }
      ]
    },
    {
      "cell_type": "markdown",
      "metadata": {
        "id": "jl2-Owuhn7zX",
        "colab_type": "text"
      },
      "source": [
        "#### 7. Stwórz macierz 3x3x3 z losowymi wartościami"
      ]
    },
    {
      "cell_type": "code",
      "metadata": {
        "id": "MER0Url7n7zY",
        "colab_type": "code",
        "outputId": "ce239653-b5c5-4ab6-818d-6a191b2850b0",
        "colab": {
          "base_uri": "https://localhost:8080/",
          "height": 204
        }
      },
      "source": [
        "np.random.rand(3,3,3)"
      ],
      "execution_count": 7,
      "outputs": [
        {
          "output_type": "execute_result",
          "data": {
            "text/plain": [
              "array([[[0.19784429, 0.39090387, 0.93356186],\n",
              "        [0.34843722, 0.54357386, 0.82797259],\n",
              "        [0.90443775, 0.18713521, 0.53572464]],\n",
              "\n",
              "       [[0.80722113, 0.61426751, 0.74589459],\n",
              "        [0.31822864, 0.76063731, 0.14893597],\n",
              "        [0.28724412, 0.4818887 , 0.4557274 ]],\n",
              "\n",
              "       [[0.5093807 , 0.24559012, 0.20091612],\n",
              "        [0.46416538, 0.93676806, 0.48558859],\n",
              "        [0.59510839, 0.80797892, 0.09219246]]])"
            ]
          },
          "metadata": {
            "tags": []
          },
          "execution_count": 7
        }
      ]
    },
    {
      "cell_type": "markdown",
      "metadata": {
        "id": "31whM2Can7zb",
        "colab_type": "text"
      },
      "source": [
        "#### 8. Stwórz macierz 10x10 wypełnioną losowymi wartościami i znajdź wartość min oraz max"
      ]
    },
    {
      "cell_type": "code",
      "metadata": {
        "id": "ovfEZVHDn7zb",
        "colab_type": "code",
        "outputId": "ab788c66-6d26-40b1-928e-898c166b7c48",
        "colab": {
          "base_uri": "https://localhost:8080/",
          "height": 374
        }
      },
      "source": [
        "m = np.random.rand(10,10)\n",
        "mmax = m.max()\n",
        "mmin = m.min()\n",
        "print(mmax, mmin)\n",
        "m"
      ],
      "execution_count": 8,
      "outputs": [
        {
          "output_type": "stream",
          "text": [
            "0.9863942219440586 0.0027416811645398775\n"
          ],
          "name": "stdout"
        },
        {
          "output_type": "execute_result",
          "data": {
            "text/plain": [
              "array([[0.83668364, 0.9032442 , 0.64704262, 0.76608342, 0.45312509,\n",
              "        0.77658819, 0.58270702, 0.83224857, 0.76404693, 0.62012427],\n",
              "       [0.4794036 , 0.19131914, 0.21200628, 0.69370794, 0.01220015,\n",
              "        0.56403117, 0.0230675 , 0.88280699, 0.92650085, 0.69801302],\n",
              "       [0.70937651, 0.64674646, 0.00274168, 0.23830323, 0.01705141,\n",
              "        0.93800603, 0.59257593, 0.43649563, 0.97720066, 0.58766546],\n",
              "       [0.58751252, 0.17608632, 0.26470453, 0.9099884 , 0.82878533,\n",
              "        0.05160882, 0.39715003, 0.07047028, 0.53505301, 0.28246983],\n",
              "       [0.47966463, 0.6903519 , 0.12224537, 0.9118811 , 0.0514958 ,\n",
              "        0.70022359, 0.97608975, 0.06920679, 0.69607225, 0.78957584],\n",
              "       [0.05826577, 0.88954419, 0.69053002, 0.91695508, 0.82570455,\n",
              "        0.09989886, 0.43441463, 0.38230111, 0.00288475, 0.29989042],\n",
              "       [0.10021313, 0.74199771, 0.1701294 , 0.78239302, 0.25974137,\n",
              "        0.80731306, 0.70052837, 0.52876169, 0.08954867, 0.74315536],\n",
              "       [0.17279845, 0.2090025 , 0.33926574, 0.81727433, 0.61332765,\n",
              "        0.84949774, 0.95754166, 0.54617633, 0.24097322, 0.3752819 ],\n",
              "       [0.50385267, 0.91053688, 0.1840174 , 0.06249119, 0.4128841 ,\n",
              "        0.10950955, 0.9219573 , 0.68730056, 0.58272089, 0.98639422],\n",
              "       [0.91206864, 0.78093235, 0.21074696, 0.16779705, 0.4896613 ,\n",
              "        0.00759749, 0.09592887, 0.73849251, 0.42395994, 0.81288957]])"
            ]
          },
          "metadata": {
            "tags": []
          },
          "execution_count": 8
        }
      ]
    },
    {
      "cell_type": "markdown",
      "metadata": {
        "id": "7gjmgnlpn7ze",
        "colab_type": "text"
      },
      "source": [
        "#### 9. Stwórz losowy wektor 30-tu elementów i znajdź średnią wartość wektora"
      ]
    },
    {
      "cell_type": "code",
      "metadata": {
        "id": "2CTSYPwSn7zf",
        "colab_type": "code",
        "outputId": "849f9f22-e4b5-4870-b8ed-43e06908bb40",
        "colab": {
          "base_uri": "https://localhost:8080/",
          "height": 34
        }
      },
      "source": [
        "n = np.random.rand(30)\n",
        "avg = n.mean()\n",
        "avg"
      ],
      "execution_count": 9,
      "outputs": [
        {
          "output_type": "execute_result",
          "data": {
            "text/plain": [
              "0.5198274347382564"
            ]
          },
          "metadata": {
            "tags": []
          },
          "execution_count": 9
        }
      ]
    },
    {
      "cell_type": "markdown",
      "metadata": {
        "id": "A9A75piWn7zi",
        "colab_type": "text"
      },
      "source": [
        "#### 10. Stwórz macierz 2D, z jedynkami na brzegach oraz zerami w środku"
      ]
    },
    {
      "cell_type": "code",
      "metadata": {
        "id": "8zeEyee8n7zj",
        "colab_type": "code",
        "outputId": "292713d8-1fa1-4e8f-ba8f-f7026094bd1c",
        "colab": {
          "base_uri": "https://localhost:8080/",
          "height": 136
        }
      },
      "source": [
        "def magic(m):\n",
        "  m[1:-1,1:-1] = 0\n",
        "  return m\n",
        "\n",
        "m = np.ones((7,6))\n",
        "print(magic(m))"
      ],
      "execution_count": 10,
      "outputs": [
        {
          "output_type": "stream",
          "text": [
            "[[1. 1. 1. 1. 1. 1.]\n",
            " [1. 0. 0. 0. 0. 1.]\n",
            " [1. 0. 0. 0. 0. 1.]\n",
            " [1. 0. 0. 0. 0. 1.]\n",
            " [1. 0. 0. 0. 0. 1.]\n",
            " [1. 0. 0. 0. 0. 1.]\n",
            " [1. 1. 1. 1. 1. 1.]]\n"
          ],
          "name": "stdout"
        }
      ]
    },
    {
      "cell_type": "markdown",
      "metadata": {
        "id": "_AUv1H0hn7zo",
        "colab_type": "text"
      },
      "source": [
        "#### 11. Wymnóż macierz 5x3 przez macierz 3x2 (wynikowa macierz 5x2)"
      ]
    },
    {
      "cell_type": "code",
      "metadata": {
        "id": "UNTIj1AEn7zo",
        "colab_type": "code",
        "outputId": "a93d668f-2792-4255-e0ce-60861ad9d74e",
        "colab": {
          "base_uri": "https://localhost:8080/",
          "height": 34
        }
      },
      "source": [
        "m1 = np.random.rand(5,3)\n",
        "m2 = np.random.rand(3,2)\n",
        "m3 = m1.dot(m2)\n",
        "m3.shape"
      ],
      "execution_count": 11,
      "outputs": [
        {
          "output_type": "execute_result",
          "data": {
            "text/plain": [
              "(5, 2)"
            ]
          },
          "metadata": {
            "tags": []
          },
          "execution_count": 11
        }
      ]
    },
    {
      "cell_type": "markdown",
      "metadata": {
        "id": "On6yiCQFn7zr",
        "colab_type": "text"
      },
      "source": [
        "#### 12. Mając wektor wartości od 0 do 9, przefiltruj elementy wektora by zostawić jedynie te, spełniające warunek (x > 2) & (x < 5)"
      ]
    },
    {
      "cell_type": "code",
      "metadata": {
        "id": "8TTnEBOFn7zs",
        "colab_type": "code",
        "outputId": "edf677ba-67b7-464f-c484-de783fded956",
        "colab": {
          "base_uri": "https://localhost:8080/",
          "height": 34
        }
      },
      "source": [
        "x = np.arange(10)\n",
        "x1 = x > 2\n",
        "x2 = x < 5\n",
        "x[x1&x2]\n"
      ],
      "execution_count": 12,
      "outputs": [
        {
          "output_type": "execute_result",
          "data": {
            "text/plain": [
              "array([3, 4])"
            ]
          },
          "metadata": {
            "tags": []
          },
          "execution_count": 12
        }
      ]
    },
    {
      "cell_type": "markdown",
      "metadata": {
        "id": "7URvtPUOn7zu",
        "colab_type": "text"
      },
      "source": [
        "#### 13. Przefiltruj wektor array listą x, aby zostawić jedynie elementy niebędące w liście x"
      ]
    },
    {
      "cell_type": "code",
      "metadata": {
        "id": "lJMTNrjen7zv",
        "colab_type": "code",
        "colab": {}
      },
      "source": [
        "x = [4, 5, 6]\n",
        "array = np.arange(10)"
      ],
      "execution_count": 0,
      "outputs": []
    },
    {
      "cell_type": "code",
      "metadata": {
        "id": "Om3njTWsn7zx",
        "colab_type": "code",
        "outputId": "3b0aa002-9ae3-4f85-e74f-986a752f3edd",
        "colab": {
          "base_uri": "https://localhost:8080/",
          "height": 34
        }
      },
      "source": [
        "result = np.isin(array,x)\n",
        "result = np.invert(result)\n",
        "array = array[result]\n",
        "array"
      ],
      "execution_count": 14,
      "outputs": [
        {
          "output_type": "execute_result",
          "data": {
            "text/plain": [
              "array([0, 1, 2, 3, 7, 8, 9])"
            ]
          },
          "metadata": {
            "tags": []
          },
          "execution_count": 14
        }
      ]
    },
    {
      "cell_type": "markdown",
      "metadata": {
        "id": "F8xcVyzyn7z0",
        "colab_type": "text"
      },
      "source": [
        "#### 14. Stwórz funkcję, realizującą funkcję logistyczną f(x) = 1 / (1 + exp(-x))"
      ]
    },
    {
      "cell_type": "code",
      "metadata": {
        "id": "BQlOqTUan7z1",
        "colab_type": "code",
        "outputId": "eee176a2-0726-4531-b49b-49fbec8672d7",
        "colab": {
          "base_uri": "https://localhost:8080/",
          "height": 34
        }
      },
      "source": [
        "def logistic_function(x):\n",
        "    fx = 1/(1 + np.exp(-x))\n",
        "    return fx\n",
        "\n",
        "print(logistic_function(7))"
      ],
      "execution_count": 15,
      "outputs": [
        {
          "output_type": "stream",
          "text": [
            "0.9990889488055994\n"
          ],
          "name": "stdout"
        }
      ]
    },
    {
      "cell_type": "code",
      "metadata": {
        "id": "2kZhCqnJ_1uD",
        "colab_type": "code",
        "colab": {}
      },
      "source": [
        ""
      ],
      "execution_count": 0,
      "outputs": []
    }
  ]
}